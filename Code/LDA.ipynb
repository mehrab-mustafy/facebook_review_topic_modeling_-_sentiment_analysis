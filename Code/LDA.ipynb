{
 "cells": [
  {
   "cell_type": "code",
   "execution_count": 17,
   "id": "9b037db3",
   "metadata": {},
   "outputs": [],
   "source": [
    "import numpy as np\n",
    "import pandas as pd\n",
    "from sklearn.decomposition import LatentDirichletAllocation\n",
    "from sklearn.feature_extraction.text import TfidfVectorizer, CountVectorizer\n",
    "from sklearn.model_selection import GridSearchCV"
   ]
  },
  {
   "cell_type": "code",
   "execution_count": 24,
   "id": "795dbf8f",
   "metadata": {},
   "outputs": [],
   "source": [
    "reviews = pd.read_csv('playstore preprocessed for keywords.csv ')"
   ]
  },
  {
   "cell_type": "markdown",
   "id": "492251f2",
   "metadata": {},
   "source": [
    "<h2>Preprocessing for Playstore Data for LDA<h2>"
   ]
  },
  {
   "cell_type": "code",
   "execution_count": 26,
   "id": "062c9f8f",
   "metadata": {
    "collapsed": true,
    "jupyter": {
     "outputs_hidden": true
    }
   },
   "outputs": [
    {
     "name": "stderr",
     "output_type": "stream",
     "text": [
      "[nltk_data] Downloading package punkt to /home/mrahm/nltk_data...\n",
      "[nltk_data]   Package punkt is already up-to-date!\n",
      "[nltk_data] Downloading package averaged_perceptron_tagger to\n",
      "[nltk_data]     /home/mrahm/nltk_data...\n",
      "[nltk_data]   Package averaged_perceptron_tagger is already up-to-\n",
      "[nltk_data]       date!\n"
     ]
    },
    {
     "name": "stdout",
     "output_type": "stream",
     "text": [
      "                                                 Review  Category  \\\n",
      "0     update Back button Facebook idea months settin...         0   \n",
      "1     update backup arrow phone i facebook arrow fac...         0   \n",
      "2     app way times updates app videos times anythin...         0   \n",
      "3     Edit Cool button issue lot button THE APP garb...         0   \n",
      "4     ability phone button bottom screen time app ad...         0   \n",
      "...                                                 ...       ...   \n",
      "9279                     Bring landscape view streaming         1   \n",
      "9280                                                way         0   \n",
      "9281                         Great apps Thanks memories         1   \n",
      "9282                       notification cant view Thank         1   \n",
      "9283  Facebook policy freedom expression opposite Tw...         0   \n",
      "\n",
      "                                      content_processed  \n",
      "0     ['update', 'facebook', 'idea', 'improves', 'mo...  \n",
      "1     ['backup', 'arrow', 'phone', 'im', 'facebook',...  \n",
      "2     ['app', 'way', 'times', 'updates', 'play', 'vi...  \n",
      "3     ['issue', 'work', 'thanks', 'lot', 'press', 'b...  \n",
      "4     ['yall', 'ability', 'use', 'phones', 'bottom',...  \n",
      "...                                                 ...  \n",
      "9279                 ['landscape', 'view', 'streaming']  \n",
      "9280                    ['way', 'marketing', 'showing']  \n",
      "9281      ['apps', 'love', 'use', 'thanks', 'memories']  \n",
      "9282   ['notification', 'cant', 'view', 'fix', 'thank']  \n",
      "9283  ['facebooks', 'policy', 'talk', 'freedom', 'ex...  \n",
      "\n",
      "[9284 rows x 3 columns]\n"
     ]
    }
   ],
   "source": [
    "import pandas as pd\n",
    "import nltk\n",
    "from nltk import pos_tag\n",
    "from nltk.tokenize import word_tokenize\n",
    "\n",
    "# Download the NLTK data\n",
    "nltk.download('punkt')\n",
    "nltk.download('averaged_perceptron_tagger')\n",
    "\n",
    "# Function to keep only nouns in a sentence\n",
    "def keep_nouns(sentence):\n",
    "    tokens = word_tokenize(sentence)\n",
    "    pos_tags = pos_tag(tokens)\n",
    "    nouns = [word for word, pos in pos_tags if pos.startswith('NN')]\n",
    "    return ' '.join(nouns)\n",
    "\n",
    "# Apply the function to the 'Reviews' column\n",
    "reviews['Review'] = reviews['Review'].apply(keep_nouns)\n",
    "\n",
    "# Display the DataFrame\n",
    "print(reviews)\n"
   ]
  },
  {
   "cell_type": "code",
   "execution_count": 29,
   "id": "f95611de",
   "metadata": {
    "collapsed": true,
    "jupyter": {
     "outputs_hidden": true
    }
   },
   "outputs": [
    {
     "name": "stdout",
     "output_type": "stream",
     "text": [
      "Collecting pyLDAvis\n",
      "  Downloading pyLDAvis-3.3.1.tar.gz (1.7 MB)\n",
      "\u001b[K     |████████████████████████████████| 1.7 MB 17.9 MB/s eta 0:00:01\n",
      "\u001b[?25h  Installing build dependencies ... \u001b[?25ldone\n",
      "\u001b[?25h  Getting requirements to build wheel ... \u001b[?25ldone\n",
      "\u001b[?25h  Installing backend dependencies ... \u001b[?25ldone\n",
      "\u001b[?25h    Preparing wheel metadata ... \u001b[?25ldone\n",
      "\u001b[?25h  Downloading pyLDAvis-3.3.0.tar.gz (1.7 MB)\n",
      "\u001b[K     |████████████████████████████████| 1.7 MB 67.1 MB/s eta 0:00:01\n",
      "\u001b[?25h  Installing build dependencies ... \u001b[?25ldone\n",
      "\u001b[?25h  Getting requirements to build wheel ... \u001b[?25ldone\n",
      "\u001b[?25h  Installing backend dependencies ... \u001b[?25ldone\n",
      "\u001b[?25h    Preparing wheel metadata ... \u001b[?25ldone\n",
      "\u001b[?25h  Downloading pyLDAvis-3.2.2.tar.gz (1.7 MB)\n",
      "\u001b[K     |████████████████████████████████| 1.7 MB 58.4 MB/s eta 0:00:01\n",
      "\u001b[?25hRequirement already satisfied: wheel>=0.23.0 in /home/mrahm/anaconda3/envs/mlproject/lib/python3.6/site-packages (from pyLDAvis) (0.37.1)\n",
      "Requirement already satisfied: numpy>=1.9.2 in /home/mrahm/anaconda3/envs/mlproject/lib/python3.6/site-packages (from pyLDAvis) (1.19.5)\n",
      "Requirement already satisfied: scipy>=0.18.0 in /home/mrahm/anaconda3/envs/mlproject/lib/python3.6/site-packages (from pyLDAvis) (1.5.4)\n",
      "Requirement already satisfied: joblib>=0.8.4 in /home/mrahm/anaconda3/envs/mlproject/lib/python3.6/site-packages (from pyLDAvis) (1.1.1)\n",
      "Requirement already satisfied: jinja2>=2.7.2 in /home/mrahm/anaconda3/envs/mlproject/lib/python3.6/site-packages (from pyLDAvis) (3.0.3)\n",
      "Collecting numexpr\n",
      "  Downloading numexpr-2.8.1-cp36-cp36m-manylinux_2_17_x86_64.manylinux2014_x86_64.whl (378 kB)\n",
      "\u001b[K     |████████████████████████████████| 378 kB 59.2 MB/s eta 0:00:01\n",
      "\u001b[?25hCollecting future\n",
      "  Downloading future-0.18.3.tar.gz (840 kB)\n",
      "\u001b[K     |████████████████████████████████| 840 kB 66.1 MB/s eta 0:00:01\n",
      "\u001b[?25hCollecting funcy\n",
      "  Downloading funcy-2.0-py2.py3-none-any.whl (30 kB)\n",
      "Requirement already satisfied: pandas>=0.17.0 in /home/mrahm/anaconda3/envs/mlproject/lib/python3.6/site-packages (from pyLDAvis) (1.1.5)\n",
      "Requirement already satisfied: MarkupSafe>=2.0 in /home/mrahm/anaconda3/envs/mlproject/lib/python3.6/site-packages (from jinja2>=2.7.2->pyLDAvis) (2.0.1)\n",
      "Requirement already satisfied: python-dateutil>=2.7.3 in /home/mrahm/anaconda3/envs/mlproject/lib/python3.6/site-packages (from pandas>=0.17.0->pyLDAvis) (2.8.2)\n",
      "Requirement already satisfied: pytz>=2017.2 in /home/mrahm/anaconda3/envs/mlproject/lib/python3.6/site-packages (from pandas>=0.17.0->pyLDAvis) (2023.3.post1)\n",
      "Requirement already satisfied: six>=1.5 in /home/mrahm/anaconda3/envs/mlproject/lib/python3.6/site-packages (from python-dateutil>=2.7.3->pandas>=0.17.0->pyLDAvis) (1.16.0)\n",
      "Requirement already satisfied: packaging in /home/mrahm/anaconda3/envs/mlproject/lib/python3.6/site-packages (from numexpr->pyLDAvis) (21.3)\n",
      "Requirement already satisfied: pyparsing!=3.0.5,>=2.0.2 in /home/mrahm/anaconda3/envs/mlproject/lib/python3.6/site-packages (from packaging->numexpr->pyLDAvis) (3.0.4)\n",
      "Building wheels for collected packages: pyLDAvis, future\n",
      "  Building wheel for pyLDAvis (setup.py) ... \u001b[?25ldone\n",
      "\u001b[?25h  Created wheel for pyLDAvis: filename=pyLDAvis-3.2.2-py2.py3-none-any.whl size=135617 sha256=bc0830294128776f7e23aa4b3cbd8f890dc96809a7814400ee80f9a16198f432\n",
      "  Stored in directory: /home/mrahm/.cache/pip/wheels/eb/d1/ac/e8728b60e7d714da9ff6a52cb8659099c3be9e0dc19f522881\n",
      "  Building wheel for future (setup.py) ... \u001b[?25ldone\n",
      "\u001b[?25h  Created wheel for future: filename=future-0.18.3-py3-none-any.whl size=492037 sha256=27cb15177429a65c2a07ce8aa27e704b57477565732553cc022d77607ecd4e18\n",
      "  Stored in directory: /home/mrahm/.cache/pip/wheels/63/f1/0c/e56d12b3804345ce5ba34279cbfe583ecafdd1401551457330\n",
      "Successfully built pyLDAvis future\n",
      "Installing collected packages: numexpr, future, funcy, pyLDAvis\n",
      "Successfully installed funcy-2.0 future-0.18.3 numexpr-2.8.1 pyLDAvis-3.2.2\n"
     ]
    }
   ],
   "source": [
    "!pip install pyLDAvis"
   ]
  },
  {
   "cell_type": "markdown",
   "id": "41b02613",
   "metadata": {},
   "source": [
    "<h2>LDA<h2>"
   ]
  },
  {
   "cell_type": "code",
   "execution_count": 30,
   "id": "fbcd9a05",
   "metadata": {},
   "outputs": [
    {
     "name": "stderr",
     "output_type": "stream",
     "text": [
      "[nltk_data] Downloading package punkt to /home/mrahm/nltk_data...\n",
      "[nltk_data]   Package punkt is already up-to-date!\n",
      "[nltk_data] Downloading package stopwords to /home/mrahm/nltk_data...\n",
      "[nltk_data]   Package stopwords is already up-to-date!\n"
     ]
    },
    {
     "name": "stdout",
     "output_type": "stream",
     "text": [
      "(0, '0.064*\"everything\" + 0.063*\"app\" + 0.046*\"session\" + 0.037*\"facebook\" + 0.034*\"nothing\"')\n",
      "(1, '0.175*\"button\" + 0.091*\"update\" + 0.088*\"phone\" + 0.082*\"app\" + 0.038*\"facebook\"')\n",
      "(2, '0.250*\"ads\" + 0.073*\"feed\" + 0.062*\"news\" + 0.059*\"content\" + 0.051*\"ad\"')\n",
      "(3, '0.077*\"people\" + 0.067*\"facebook\" + 0.045*\"share\" + 0.037*\"app\" + 0.032*\"features\"')\n",
      "(4, '0.381*\"app\" + 0.078*\"time\" + 0.042*\"updates\" + 0.029*\"facebook\" + 0.020*\"update\"')\n",
      "(5, '0.197*\"facebook\" + 0.089*\"page\" + 0.048*\"issue\" + 0.032*\"profile\" + 0.028*\"please\"')\n",
      "(6, '0.104*\"freedom\" + 0.089*\"application\" + 0.065*\"speech\" + 0.047*\"expression\" + 0.046*\"star\"')\n",
      "(7, '0.110*\"comments\" + 0.107*\"post\" + 0.061*\"comment\" + 0.041*\"keeps\" + 0.031*\"keyboard\"')\n",
      "(8, '0.149*\"video\" + 0.049*\"version\" + 0.048*\"photos\" + 0.040*\"videos\" + 0.036*\"screen\"')\n",
      "(9, '0.078*\"data\" + 0.057*\"privacy\" + 0.051*\"place\" + 0.041*\"community\" + 0.036*\"standards\"')\n",
      "(10, '0.174*\"posts\" + 0.166*\"friends\" + 0.083*\"pages\" + 0.047*\"family\" + 0.035*\"groups\"')\n",
      "(11, '0.144*\"videos\" + 0.089*\"reels\" + 0.070*\"video\" + 0.053*\"option\" + 0.037*\"browser\"')\n",
      "(12, '0.141*\"marketplace\" + 0.067*\"bar\" + 0.040*\"stories\" + 0.037*\"song\" + 0.033*\"auto\"')\n",
      "(13, '0.109*\"problem\" + 0.082*\"music\" + 0.075*\"story\" + 0.046*\"facebook\" + 0.039*\"picture\"')\n",
      "(14, '0.105*\"facebook\" + 0.057*\"problems\" + 0.055*\"lot\" + 0.049*\"apps\" + 0.044*\"accounts\"')\n",
      "(15, '0.074*\"information\" + 0.043*\"app\" + 0.038*\"system\" + 0.035*\"meta\" + 0.031*\"money\"')\n",
      "(16, '0.151*\"notifications\" + 0.071*\"times\" + 0.067*\"day\" + 0.063*\"app\" + 0.037*\"days\"')\n",
      "(17, '0.222*\"account\" + 0.072*\"facebook\" + 0.051*\"password\" + 0.039*\"email\" + 0.037*\"phone\"')\n",
      "(18, '0.086*\"messages\" + 0.071*\"notification\" + 0.054*\"message\" + 0.053*\"messenger\" + 0.049*\"someone\"')\n",
      "(19, '0.270*\"fb\" + 0.025*\"time\" + 0.024*\"timeline\" + 0.023*\"memories\" + 0.022*\"events\"')\n"
     ]
    },
    {
     "data": {
      "text/plain": [
       "True"
      ]
     },
     "execution_count": 30,
     "metadata": {},
     "output_type": "execute_result"
    }
   ],
   "source": [
    "import pandas as pd\n",
    "from nltk.corpus import stopwords\n",
    "from nltk.tokenize import word_tokenize\n",
    "from gensim import corpora, models\n",
    "import matplotlib.pyplot as plt\n",
    "\n",
    "\n",
    "# Download NLTK resources\n",
    "import nltk\n",
    "nltk.download('punkt')\n",
    "nltk.download('stopwords')\n",
    "\n",
    "# Preprocess the text data\n",
    "stop_words = set(stopwords.words('english'))\n",
    "\n",
    "def preprocess_text(text):\n",
    "    words = word_tokenize(text.lower())\n",
    "    return [word for word in words if word.isalpha() and word not in stop_words]\n",
    "\n",
    "reviews['processed_text'] = reviews['Review'].apply(preprocess_text)\n",
    "\n",
    "# Create a dictionary and a corpus\n",
    "dictionary = corpora.Dictionary(reviews['processed_text'])\n",
    "corpus = [dictionary.doc2bow(text) for text in reviews['processed_text']]\n",
    "\n",
    "# Build the LDA model\n",
    "num_topics = 20\n",
    "lda_model = models.LdaModel(corpus, num_topics=num_topics, id2word=dictionary, passes=15)\n",
    "\n",
    "# Print the topics\n",
    "topics = lda_model.print_topics(num_words=5)\n",
    "for topic in topics:\n",
    "    print(topic)\n",
    "\n",
    "# Visualize the topics\n",
    "import pyLDAvis.gensim\n",
    "pyLDAvis.enable_notebook()\n",
    "vis = pyLDAvis.gensim.prepare(lda_model, corpus, dictionary)\n",
    "pyLDAvis.save_html(vis, 'lda_visualization.html')\n",
    "\n",
    "# Display the HTML file in your browser\n",
    "import webbrowser\n",
    "webbrowser.open('lda_visualization.html')\n"
   ]
  },
  {
   "cell_type": "code",
   "execution_count": 3,
   "id": "65d6d835",
   "metadata": {
    "collapsed": true,
    "jupyter": {
     "outputs_hidden": true
    }
   },
   "outputs": [
    {
     "name": "stdout",
     "output_type": "stream",
     "text": [
      "Requirement already satisfied: pandas in /home/mrahm/anaconda3/envs/mlproject/lib/python3.6/site-packages (1.1.5)\n",
      "Requirement already satisfied: scikit-learn in /home/mrahm/anaconda3/envs/mlproject/lib/python3.6/site-packages (0.24.2)\n",
      "Requirement already satisfied: gensim in /home/mrahm/anaconda3/envs/mlproject/lib/python3.6/site-packages (4.2.0)\n",
      "Requirement already satisfied: pytz>=2017.2 in /home/mrahm/anaconda3/envs/mlproject/lib/python3.6/site-packages (from pandas) (2023.3.post1)\n",
      "Requirement already satisfied: python-dateutil>=2.7.3 in /home/mrahm/anaconda3/envs/mlproject/lib/python3.6/site-packages (from pandas) (2.8.2)\n",
      "Requirement already satisfied: numpy>=1.15.4 in /home/mrahm/anaconda3/envs/mlproject/lib/python3.6/site-packages (from pandas) (1.19.5)\n",
      "Requirement already satisfied: scipy>=0.19.1 in /home/mrahm/anaconda3/envs/mlproject/lib/python3.6/site-packages (from scikit-learn) (1.5.4)\n",
      "Requirement already satisfied: threadpoolctl>=2.0.0 in /home/mrahm/anaconda3/envs/mlproject/lib/python3.6/site-packages (from scikit-learn) (3.1.0)\n",
      "Requirement already satisfied: joblib>=0.11 in /home/mrahm/anaconda3/envs/mlproject/lib/python3.6/site-packages (from scikit-learn) (1.1.1)\n",
      "Requirement already satisfied: smart-open>=1.8.1 in /home/mrahm/anaconda3/envs/mlproject/lib/python3.6/site-packages (from gensim) (6.4.0)\n",
      "Requirement already satisfied: six>=1.5 in /home/mrahm/anaconda3/envs/mlproject/lib/python3.6/site-packages (from python-dateutil>=2.7.3->pandas) (1.16.0)\n"
     ]
    }
   ],
   "source": [
    "!pip install pandas scikit-learn gensim\n"
   ]
  },
  {
   "cell_type": "code",
   "execution_count": 4,
   "id": "d92edec2",
   "metadata": {
    "collapsed": true,
    "jupyter": {
     "outputs_hidden": true
    }
   },
   "outputs": [
    {
     "name": "stdout",
     "output_type": "stream",
     "text": [
      "Requirement already satisfied: gensim in /home/mrahm/anaconda3/envs/mlproject/lib/python3.6/site-packages (4.2.0)\n",
      "Requirement already satisfied: smart-open>=1.8.1 in /home/mrahm/anaconda3/envs/mlproject/lib/python3.6/site-packages (from gensim) (6.4.0)\n",
      "Requirement already satisfied: scipy>=0.18.1 in /home/mrahm/anaconda3/envs/mlproject/lib/python3.6/site-packages (from gensim) (1.5.4)\n",
      "Requirement already satisfied: numpy>=1.17.0 in /home/mrahm/anaconda3/envs/mlproject/lib/python3.6/site-packages (from gensim) (1.19.5)\n"
     ]
    }
   ],
   "source": [
    "!pip install gensim"
   ]
  },
  {
   "cell_type": "markdown",
   "id": "c75e7f0c",
   "metadata": {},
   "source": [
    "<h3>Generating dictionary of Topics/Keywords for Playstore Data<h3>"
   ]
  },
  {
   "cell_type": "code",
   "execution_count": 42,
   "id": "04201483",
   "metadata": {
    "collapsed": true,
    "jupyter": {
     "outputs_hidden": true
    }
   },
   "outputs": [
    {
     "name": "stdout",
     "output_type": "stream",
     "text": [
      "['0.064everything', '0.063app', '0.046session', '0.037facebook', '0.034nothing']\n",
      "0.034nothing\n",
      "0.064everything\n",
      "0.063app\n",
      "0.046session\n",
      "0.037facebook\n",
      "['0.175button', '0.091update', '0.088phone', '0.082app', '0.038facebook']\n",
      "0.038facebook\n",
      "0.175button\n",
      "0.091update\n",
      "0.088phone\n",
      "0.082app\n",
      "['0.250ads', '0.073feed', '0.062news', '0.059content', '0.051ad']\n",
      "0.051ad\n",
      "0.250ads\n",
      "0.073feed\n",
      "0.062news\n",
      "0.059content\n",
      "['0.077people', '0.067facebook', '0.045share', '0.037app', '0.032features']\n",
      "0.032features\n",
      "0.077people\n",
      "0.067facebook\n",
      "0.045share\n",
      "0.037app\n",
      "['0.381app', '0.078time', '0.042updates', '0.029facebook', '0.020update']\n",
      "0.020update\n",
      "0.381app\n",
      "0.078time\n",
      "0.042updates\n",
      "0.029facebook\n",
      "['0.197facebook', '0.089page', '0.048issue', '0.032profile', '0.028please']\n",
      "0.028please\n",
      "0.197facebook\n",
      "0.089page\n",
      "0.048issue\n",
      "0.032profile\n",
      "['0.104freedom', '0.089application', '0.065speech', '0.047expression', '0.046star']\n",
      "0.046star\n",
      "0.104freedom\n",
      "0.089application\n",
      "0.065speech\n",
      "0.047expression\n",
      "['0.110comments', '0.107post', '0.061comment', '0.041keeps', '0.031keyboard']\n",
      "0.031keyboard\n",
      "0.110comments\n",
      "0.107post\n",
      "0.061comment\n",
      "0.041keeps\n",
      "['0.149video', '0.049version', '0.048photos', '0.040videos', '0.036screen']\n",
      "0.036screen\n",
      "0.149video\n",
      "0.049version\n",
      "0.048photos\n",
      "0.040videos\n",
      "['0.078data', '0.057privacy', '0.051place', '0.041community', '0.036standards']\n",
      "0.036standards\n",
      "0.078data\n",
      "0.057privacy\n",
      "0.051place\n",
      "0.041community\n",
      "['0.174posts', '0.166friends', '0.083pages', '0.047family', '0.035groups']\n",
      "0.035groups\n",
      "0.174posts\n",
      "0.166friends\n",
      "0.083pages\n",
      "0.047family\n",
      "['0.144videos', '0.089reels', '0.070video', '0.053option', '0.037browser']\n",
      "0.037browser\n",
      "0.144videos\n",
      "0.089reels\n",
      "0.070video\n",
      "0.053option\n",
      "['0.141marketplace', '0.067bar', '0.040stories', '0.037song', '0.033auto']\n",
      "0.033auto\n",
      "0.141marketplace\n",
      "0.067bar\n",
      "0.040stories\n",
      "0.037song\n",
      "['0.109problem', '0.082music', '0.075story', '0.046facebook', '0.039picture']\n",
      "0.039picture\n",
      "0.109problem\n",
      "0.082music\n",
      "0.075story\n",
      "0.046facebook\n",
      "['0.105facebook', '0.057problems', '0.055lot', '0.049apps', '0.044accounts']\n",
      "0.044accounts\n",
      "0.105facebook\n",
      "0.057problems\n",
      "0.055lot\n",
      "0.049apps\n",
      "['0.074information', '0.043app', '0.038system', '0.035meta', '0.031money']\n",
      "0.031money\n",
      "0.074information\n",
      "0.043app\n",
      "0.038system\n",
      "0.035meta\n",
      "['0.151notifications', '0.071times', '0.067day', '0.063app', '0.037days']\n",
      "0.037days\n",
      "0.151notifications\n",
      "0.071times\n",
      "0.067day\n",
      "0.063app\n",
      "['0.222account', '0.072facebook', '0.051password', '0.039email', '0.037phone']\n",
      "0.037phone\n",
      "0.222account\n",
      "0.072facebook\n",
      "0.051password\n",
      "0.039email\n",
      "['0.086messages', '0.071notification', '0.054message', '0.053messenger', '0.049someone']\n",
      "0.049someone\n",
      "0.086messages\n",
      "0.071notification\n",
      "0.054message\n",
      "0.053messenger\n",
      "['0.270fb', '0.025time', '0.024timeline', '0.023memories', '0.022events']\n",
      "0.022events\n",
      "0.270fb\n",
      "0.025time\n",
      "0.024timeline\n",
      "0.023memories\n"
     ]
    }
   ],
   "source": [
    "data = [\n",
    "    ('0.064*\"everything\" + 0.063*\"app\" + 0.046*\"session\" + 0.037*\"facebook\" + 0.034*\"nothing\"'),\n",
    "    ('0.175*\"button\" + 0.091*\"update\" + 0.088*\"phone\" + 0.082*\"app\" + 0.038*\"facebook\"'),\n",
    "    ('0.250*\"ads\" + 0.073*\"feed\" + 0.062*\"news\" + 0.059*\"content\" + 0.051*\"ad\"'),\n",
    "    ('0.077*\"people\" + 0.067*\"facebook\" + 0.045*\"share\" + 0.037*\"app\" + 0.032*\"features\"'),\n",
    "    ('0.381*\"app\" + 0.078*\"time\" + 0.042*\"updates\" + 0.029*\"facebook\" + 0.020*\"update\"'),\n",
    "    ('0.197*\"facebook\" + 0.089*\"page\" + 0.048*\"issue\" + 0.032*\"profile\" + 0.028*\"please\"'),\n",
    "    ('0.104*\"freedom\" + 0.089*\"application\" + 0.065*\"speech\" + 0.047*\"expression\" + 0.046*\"star\"'),\n",
    "    ('0.110*\"comments\" + 0.107*\"post\" + 0.061*\"comment\" + 0.041*\"keeps\" + 0.031*\"keyboard\"'),\n",
    "    ('0.149*\"video\" + 0.049*\"version\" + 0.048*\"photos\" + 0.040*\"videos\" + 0.036*\"screen\"'),\n",
    "    ('0.078*\"data\" + 0.057*\"privacy\" + 0.051*\"place\" + 0.041*\"community\" + 0.036*\"standards\"'),\n",
    "    ('0.174*\"posts\" + 0.166*\"friends\" + 0.083*\"pages\" + 0.047*\"family\" + 0.035*\"groups\"'),\n",
    "    ('0.144*\"videos\" + 0.089*\"reels\" + 0.070*\"video\" + 0.053*\"option\" + 0.037*\"browser\"'),\n",
    "    ('0.141*\"marketplace\" + 0.067*\"bar\" + 0.040*\"stories\" + 0.037*\"song\" + 0.033*\"auto\"'),\n",
    "    ('0.109*\"problem\" + 0.082*\"music\" + 0.075*\"story\" + 0.046*\"facebook\" + 0.039*\"picture\"'),\n",
    "    ('0.105*\"facebook\" + 0.057*\"problems\" + 0.055*\"lot\" + 0.049*\"apps\" + 0.044*\"accounts\"'),\n",
    "    ('0.074*\"information\" + 0.043*\"app\" + 0.038*\"system\" + 0.035*\"meta\" + 0.031*\"money\"'),\n",
    "    ('0.151*\"notifications\" + 0.071*\"times\" + 0.067*\"day\" + 0.063*\"app\" + 0.037*\"days\"'),\n",
    "    ('0.222*\"account\" + 0.072*\"facebook\" + 0.051*\"password\" + 0.039*\"email\" + 0.037*\"phone\"'),\n",
    "    ('0.086*\"messages\" + 0.071*\"notification\" + 0.054*\"message\" + 0.053*\"messenger\" + 0.049*\"someone\"'),\n",
    "    ('0.270*\"fb\" + 0.025*\"time\" + 0.024*\"timeline\" + 0.023*\"memories\" + 0.022*\"events\"')\n",
    "]\n",
    "newlist = []\n",
    "\n",
    "# Iterate through each line of data\n",
    "for line in data:\n",
    "    # Remove quotes, '*', and '+' and split the line into words and weights\n",
    "    words_weights = line.replace('\"', '').replace('*', '').replace('+', '').split()\n",
    "    print(words_weights)\n",
    "    \n",
    "    # Print the words\n",
    "    for i in range(0, len(words_weights)):  # Start from index 1, considering odd indices as words\n",
    "        word = words_weights[i - 1]\n",
    "        newlist.append(word)\n",
    "        print(word)\n"
   ]
  },
  {
   "cell_type": "code",
   "execution_count": 56,
   "id": "bda369cb",
   "metadata": {
    "collapsed": true,
    "jupyter": {
     "outputs_hidden": true
    }
   },
   "outputs": [
    {
     "name": "stdout",
     "output_type": "stream",
     "text": [
      "Words: ['nothing', 'everything', 'app', 'session', 'facebook', 'facebook', 'button', 'update', 'phone', 'app', 'ad', 'ads', 'feed', 'news', 'content', 'features', 'people', 'facebook', 'share', 'app', 'update', 'app', 'time', 'updates', 'facebook', 'please', 'facebook', 'page', 'issue', 'profile', 'star', 'freedom', 'application', 'speech', 'expression', 'keyboard', 'comments', 'post', 'comment', 'keeps', 'screen', 'video', 'version', 'photos', 'videos', 'standards', 'data', 'privacy', 'place', 'community', 'groups', 'posts', 'friends', 'pages', 'family', 'browser', 'videos', 'reels', 'video', 'option', 'auto', 'marketplace', 'bar', 'stories', 'song', 'picture', 'problem', 'music', 'story', 'facebook', 'accounts', 'facebook', 'problems', 'lot', 'apps', 'money', 'information', 'app', 'system', 'meta', 'days', 'notifications', 'times', 'day', 'app', 'phone', 'account', 'facebook', 'password', 'email', 'someone', 'messages', 'notification', 'message', 'messenger', 'events', 'fb', 'time', 'timeline', 'memories']\n",
      "Numbers: [0.034, 0.064, 0.063, 0.046, 0.037, 0.038, 0.175, 0.091, 0.088, 0.082, 0.051, 0.25, 0.073, 0.062, 0.059, 0.032, 0.077, 0.067, 0.045, 0.037, 0.02, 0.381, 0.078, 0.042, 0.029, 0.028, 0.197, 0.089, 0.048, 0.032, 0.046, 0.104, 0.089, 0.065, 0.047, 0.031, 0.11, 0.107, 0.061, 0.041, 0.036, 0.149, 0.049, 0.048, 0.04, 0.036, 0.078, 0.057, 0.051, 0.041, 0.035, 0.174, 0.166, 0.083, 0.047, 0.037, 0.144, 0.089, 0.07, 0.053, 0.033, 0.141, 0.067, 0.04, 0.037, 0.039, 0.109, 0.082, 0.075, 0.046, 0.044, 0.105, 0.057, 0.055, 0.049, 0.031, 0.074, 0.043, 0.038, 0.035, 0.037, 0.151, 0.071, 0.067, 0.063, 0.037, 0.222, 0.072, 0.051, 0.039, 0.049, 0.086, 0.071, 0.054, 0.053, 0.022, 0.27, 0.025, 0.024, 0.023]\n"
     ]
    }
   ],
   "source": [
    "import re\n",
    "\n",
    "# Separate numeric values and words\n",
    "words = []\n",
    "numbers = []\n",
    "\n",
    "for item in newlist:\n",
    "    # Use regular expression to separate numeric and non-numeric parts\n",
    "    match = re.match(r'([\\d.]+)([a-zA-Z]+)', item)\n",
    "    if match:\n",
    "        numeric_part = match.group(1)\n",
    "        words_part = match.group(2)\n",
    "        \n",
    "        # Convert numeric part to float\n",
    "        numeric_value = float(numeric_part)\n",
    "        numbers.append(numeric_value)\n",
    "        words.append(words_part)\n",
    "    else:\n",
    "        words.append(item)\n",
    "\n",
    "print(\"Words:\", words)\n",
    "print(\"Numbers:\", numbers)\n"
   ]
  },
  {
   "cell_type": "code",
   "execution_count": 58,
   "id": "da4b1f6d",
   "metadata": {},
   "outputs": [
    {
     "name": "stdout",
     "output_type": "stream",
     "text": [
      "{'nothing': 0.034, 'everything': 0.064, 'app': 0.669, 'session': 0.046, 'facebook': 0.591, 'button': 0.175, 'update': 0.111, 'phone': 0.125, 'ad': 0.051, 'ads': 0.25, 'feed': 0.073, 'news': 0.062, 'content': 0.059, 'features': 0.032, 'people': 0.077, 'share': 0.045, 'time': 0.10300000000000001, 'updates': 0.042, 'please': 0.028, 'page': 0.089, 'issue': 0.048, 'profile': 0.032, 'star': 0.046, 'freedom': 0.104, 'application': 0.089, 'speech': 0.065, 'expression': 0.047, 'keyboard': 0.031, 'comments': 0.11, 'post': 0.107, 'comment': 0.061, 'keeps': 0.041, 'screen': 0.036, 'video': 0.219, 'version': 0.049, 'photos': 0.048, 'videos': 0.184, 'standards': 0.036, 'data': 0.078, 'privacy': 0.057, 'place': 0.051, 'community': 0.041, 'groups': 0.035, 'posts': 0.174, 'friends': 0.166, 'pages': 0.083, 'family': 0.047, 'browser': 0.037, 'reels': 0.089, 'option': 0.053, 'auto': 0.033, 'marketplace': 0.141, 'bar': 0.067, 'stories': 0.04, 'song': 0.037, 'picture': 0.039, 'problem': 0.109, 'music': 0.082, 'story': 0.075, 'accounts': 0.044, 'problems': 0.057, 'lot': 0.055, 'apps': 0.049, 'money': 0.031, 'information': 0.074, 'system': 0.038, 'meta': 0.035, 'days': 0.037, 'notifications': 0.151, 'times': 0.071, 'day': 0.067, 'account': 0.222, 'password': 0.051, 'email': 0.039, 'someone': 0.049, 'messages': 0.086, 'notification': 0.071, 'message': 0.054, 'messenger': 0.053, 'events': 0.022, 'fb': 0.27, 'timeline': 0.024, 'memories': 0.023}\n"
     ]
    }
   ],
   "source": [
    "word_value_dict = {}\n",
    "\n",
    "for word, value in zip(words, numbers):\n",
    "    if word in word_value_dict:\n",
    "        # If the word already exists in the dictionary, add the value\n",
    "        word_value_dict[word] += value\n",
    "    else:\n",
    "        # If the word is not in the dictionary, create a new entry\n",
    "        word_value_dict[word] = value\n",
    "\n",
    "print(word_value_dict)"
   ]
  },
  {
   "cell_type": "code",
   "execution_count": 59,
   "id": "b7382824",
   "metadata": {},
   "outputs": [
    {
     "data": {
      "text/plain": [
       "83"
      ]
     },
     "execution_count": 59,
     "metadata": {},
     "output_type": "execute_result"
    }
   ],
   "source": [
    "len(word_value_dict)"
   ]
  },
  {
   "cell_type": "markdown",
   "id": "8b2aa46b",
   "metadata": {},
   "source": [
    "<h3>Generating dictionary of Topics/Keywords for Appstore Data (Similar to previous, calculated on a different file)<h3>"
   ]
  },
  {
   "cell_type": "code",
   "execution_count": 61,
   "id": "14836f4d",
   "metadata": {},
   "outputs": [
    {
     "name": "stdout",
     "output_type": "stream",
     "text": [
      "{'platform': 0.039, 'facebook': 0.49399999999999994, 'people': 0.25, 'fact': 0.029, 'speech': 0.025, 'money': 0.036, 'meta': 0.05, 'tiktok': 0.048, 'mark': 0.04, 'data': 0.04, 'june': 0.018, 'creators': 0.036, 'dating': 0.03, 'baby': 0.026, 'scams': 0.026, 'pages': 0.014, 'business': 0.074, 'page': 0.089, 'trafficking': 0.015, 'sounds': 0.032, 'volume': 0.026, 'reel': 0.023, 'action': 0.02, 'place': 0.019, 'company': 0.032, 'app': 0.28099999999999997, 'videos': 0.018, 'video': 0.026, 'time': 0.022, 'notifications': 0.126, 'group': 0.07, 'groups': 0.053, 'notification': 0.038, 'update': 0.024, 'post': 0.037, 'comments': 0.031, 'help': 0.021, 'account': 0.142, 'phone': 0.028, 'word': 0.013, 'space': 0.031, 'landscape': 0.016, 'camera': 0.014, 'night': 0.013, 'truth': 0.022, 'president': 0.041, 'trump': 0.039, 'states': 0.026, 'avatar': 0.023, 'photos': 0.097, 'photo': 0.074, 'option': 0.034, 'watch': 0.019, 'reels': 0.067, 'lol': 0.028, 'cat': 0.027, 'notes': 0.024, 'fb': 0.298, 'ads': 0.077, 'ad': 0.029, 'friends': 0.063, 'years': 0.023, 'community': 0.031, 'standards': 0.024, 'posts': 0.065, 'guys': 0.013, 'women': 0.024, 'children': 0.019, 'theories': 0.019, 'folks': 0.047, 'description': 0.032, 'conspiracy': 0.03, 'voice': 0.023, 'listings': 0.021, 'marketplace': 0.19, 'items': 0.055, 'item': 0.036, 'sale': 0.024}\n"
     ]
    }
   ],
   "source": [
    "data2 = [\n",
    "    ('0.072*\"facebook\" + 0.039*\"people\" + 0.029*\"fact\" + 0.025*\"speech\" + 0.024*\"platform\"'),\n",
    "('0.050*\"meta\" + 0.048*\"tiktok\" + 0.040*\"mark\" + 0.040*\"data\" + 0.036*\"money\"'),\n",
    "('0.036*\"creators\" + 0.030*\"dating\" + 0.026*\"baby\" + 0.026*\"scams\" + 0.018*\"june\"'),\n",
    "('0.074*\"business\" + 0.057*\"page\" + 0.042*\"facebook\" + 0.038*\"people\" + 0.014*\"pages\"'),\n",
    "('0.032*\"sounds\" + 0.026*\"volume\" + 0.023*\"reel\" + 0.020*\"action\" + 0.015*\"trafficking\"'),\n",
    "('0.041*\"people\" + 0.032*\"company\" + 0.024*\"facebook\" + 0.020*\"app\" + 0.019*\"place\"'),\n",
    "('0.078*\"app\" + 0.078*\"facebook\" + 0.026*\"video\" + 0.022*\"time\" + 0.018*\"videos\"'),\n",
    "('0.126*\"notifications\" + 0.070*\"group\" + 0.053*\"groups\" + 0.038*\"notification\" + 0.032*\"page\"'),\n",
    "('0.089*\"app\" + 0.037*\"post\" + 0.032*\"facebook\" + 0.031*\"comments\" + 0.024*\"update\"'),\n",
    "('0.087*\"facebook\" + 0.086*\"account\" + 0.028*\"phone\" + 0.024*\"app\" + 0.021*\"help\"'),\n",
    "('0.031*\"space\" + 0.016*\"landscape\" + 0.014*\"camera\" + 0.013*\"night\" + 0.013*\"word\"'),\n",
    "('0.041*\"president\" + 0.039*\"trump\" + 0.026*\"states\" + 0.024*\"people\" + 0.022*\"truth\"'),\n",
    "('0.097*\"photos\" + 0.074*\"photo\" + 0.034*\"option\" + 0.032*\"app\" + 0.023*\"avatar\"'),\n",
    "('0.067*\"reels\" + 0.028*\"lol\" + 0.027*\"cat\" + 0.024*\"notes\" + 0.019*\"watch\"'),\n",
    "('0.298*\"fb\" + 0.077*\"ads\" + 0.029*\"ad\" + 0.013*\"friends\" + 0.012*\"people\"'),\n",
    "('0.087*\"facebook\" + 0.056*\"account\" + 0.031*\"community\" + 0.024*\"standards\" + 0.023*\"years\"'),\n",
    "('0.072*\"facebook\" + 0.065*\"posts\" + 0.054*\"people\" + 0.050*\"friends\" + 0.038*\"app\"'),\n",
    "('0.042*\"people\" + 0.024*\"women\" + 0.019*\"children\" + 0.015*\"platform\" + 0.013*\"guys\"'),\n",
    "('0.047*\"folks\" + 0.032*\"description\" + 0.030*\"conspiracy\" + 0.023*\"voice\" + 0.019*\"theories\"'),\n",
    "('0.190*\"marketplace\" + 0.055*\"items\" + 0.036*\"item\" + 0.024*\"sale\" + 0.021*\"listings\"'),\n",
    "]\n",
    "newlist2 = []\n",
    "\n",
    "# Iterate through each line of data\n",
    "for line in data2:\n",
    "    # Remove quotes, '*', and '+' and split the line into words and weights\n",
    "    words_weights = line.replace('\"', '').replace('*', '').replace('+', '').split()\n",
    "    \n",
    "    # Print the words\n",
    "    for i in range(0, len(words_weights)):  # Start from index 1, considering odd indices as words\n",
    "        word = words_weights[i - 1]\n",
    "        newlist2.append(word)\n",
    "\n",
    "# Separate numeric values and words\n",
    "words2 = []\n",
    "numbers2 = []\n",
    "\n",
    "for item in newlist2:\n",
    "    # Use regular expression to separate numeric and non-numeric parts\n",
    "    match = re.match(r'([\\d.]+)([a-zA-Z]+)', item)\n",
    "    if match:\n",
    "        numeric_part = match.group(1)\n",
    "        words_part = match.group(2)\n",
    "        \n",
    "        # Convert numeric part to float\n",
    "        numeric_value = float(numeric_part)\n",
    "        numbers2.append(numeric_value)\n",
    "        words2.append(words_part)\n",
    "    else:\n",
    "        words2.append(item)\n",
    "\n",
    "word_value_dict2 = {}\n",
    "\n",
    "for word, value in zip(words2, numbers2):\n",
    "    if word in word_value_dict2:\n",
    "        # If the word already exists in the dictionary, add the value\n",
    "        word_value_dict2[word] += value\n",
    "    else:\n",
    "        # If the word is not in the dictionary, create a new entry\n",
    "        word_value_dict2[word] = value\n",
    "\n",
    "print(word_value_dict2)\n"
   ]
  },
  {
   "cell_type": "code",
   "execution_count": 69,
   "id": "72d66775",
   "metadata": {},
   "outputs": [
    {
     "data": {
      "text/plain": [
       "<bound method NDFrame.head of                                                  Review Category\n",
       "0     I have updated to the latest iPhone software, ...       -1\n",
       "1     I can't believe you guys, it's annoying to not...       -1\n",
       "2     Firstly, to get the big one out of the way. Se...       -1\n",
       "3     Absolute garbage. I never used social media be...       -1\n",
       "4     this app supposed to be a \"Open opinion space ...       -1\n",
       "...                                                 ...      ...\n",
       "6015  Just last week I could edit my post on my phon...       -1\n",
       "6016  My mom passed in May and I submitted 2 request...       -1\n",
       "6017  This app is trashiest. Facebook has no rules t...       -1\n",
       "6018  This app is trash!! Y’all are so sensitive 🤬 I...       -1\n",
       "6019  Literally no excuses. This is a gigantic compa...       -1\n",
       "\n",
       "[5821 rows x 2 columns]>"
      ]
     },
     "execution_count": 69,
     "metadata": {},
     "output_type": "execute_result"
    }
   ],
   "source": [
    "df1 = pd.read_csv('play_store_facebook_reviews_with_sentiment_full.csv')\n",
    "df1.drop(columns=['Score'], inplace=True)\n",
    "df1['Category'] = df1['Category'].replace('good', 1)\n",
    "df1['Category'] = df1['Category'].replace('bad', -1)\n",
    "df1 = df1[df1['Category'] != 'neutral']\n",
    "\n",
    "df2 = pd.read_csv('app_store_facebook_reviews_with_sentiment_full.csv')\n",
    "df2.drop(columns=['Score'], inplace=True)\n",
    "df2['Category'] = df2['Category'].replace('good', 1)\n",
    "df2['Category'] = df2['Category'].replace('bad', -1)\n",
    "df2 = df2[df2['Category'] != 'neutral']\n",
    "df2.head"
   ]
  },
  {
   "cell_type": "code",
   "execution_count": 117,
   "id": "b9b8d085",
   "metadata": {
    "collapsed": true,
    "jupyter": {
     "outputs_hidden": true
    }
   },
   "outputs": [
    {
     "name": "stdout",
     "output_type": "stream",
     "text": [
      "83\n",
      "78\n"
     ]
    }
   ],
   "source": [
    "key1 = list(word_value_dict.keys())\n",
    "print(len(key1))\n",
    "key2 = list(word_value_dict2.keys())\n",
    "print(len(key2))"
   ]
  },
  {
   "cell_type": "code",
   "execution_count": 82,
   "id": "d9c066bb",
   "metadata": {
    "collapsed": true,
    "jupyter": {
     "outputs_hidden": true
    }
   },
   "outputs": [
    {
     "name": "stdout",
     "output_type": "stream",
     "text": [
      "[-1, -1, -1, -1, -1, -1, -1, -1, -1, -1, -1, -1, -1, -1, -1, -1, -1, -1, -1, -1, -1, -1, 1, -1, -1, -1, -1, -1, -1, -1, -1, -1, -1, -1, -1, -1, -1, 1, -1, -1, -1, -1, -1, -1, -1, -1, -1, -1, -1, -1, -1, -1, -1, -1, -1, -1, -1, -1, -1, -1, -1, -1, -1, -1, -1, -1, -1, -1, -1, -1, -1, -1, -1, -1, -1, -1, -1, -1, -1, -1, -1, -1, -1, -1, -1, -1, -1, -1, -1, -1, -1, -1, -1, -1, -1, -1, -1, -1, -1, -1, -1, -1, -1, -1, -1, -1, -1, -1, -1, -1, -1, -1, -1, -1, -1, -1, -1, -1, -1, -1, -1, -1, -1, -1, -1, -1, -1, -1, -1, -1, -1, -1, -1, -1, -1, -1, -1, -1, -1, -1, -1, -1, -1, -1, -1, -1, -1, -1, -1, -1, -1, -1, -1, -1, -1, -1, -1, -1, -1, -1, -1, -1, -1, -1, -1, -1, -1, -1, -1, -1, -1, -1, -1, -1, -1, -1, -1, -1, -1, -1, -1, -1, -1, -1, -1, -1, -1, -1, -1, -1, -1, -1, -1, -1, -1, -1, -1, -1, -1, -1, -1, -1, -1, -1, -1, -1, 1, -1, -1, -1, -1, -1, -1, -1, -1, -1, -1, -1, -1, -1, -1, -1, -1, -1, -1, -1, -1, -1, -1, -1, -1, -1, -1, -1, -1, -1, -1, -1, -1, -1, -1, -1, -1, -1, -1, -1, 1, -1, -1, -1, -1, -1, -1, -1, -1, -1, -1, -1, -1, -1, -1, -1, -1, -1, -1, -1, 1, 1, -1, 1, -1, -1, -1, -1, -1, -1, -1, -1, -1, -1, -1, -1, -1, -1, -1, -1, -1, -1, -1, -1, -1, -1, -1, -1, -1, -1, -1, -1, -1, -1, -1, -1, 1, -1, -1, -1, -1, -1, -1, -1, -1, -1, -1, -1, -1, -1, -1, -1, -1, 1, -1, -1, -1, -1, -1, -1, 1, -1, -1, -1, -1, 1, -1, -1, -1, -1, -1, -1, -1, -1, -1, -1, -1, -1, -1, -1, -1, -1, -1, -1, -1, -1, -1, -1, -1, -1, -1, -1, -1, -1, -1, -1, -1, -1, 1, -1, -1, -1, -1, -1, -1, -1, -1, -1, -1, -1, 1, -1, -1, -1, -1, -1, -1, -1, -1, -1, -1, -1, -1, -1, -1, -1, -1, -1, -1, -1, -1, -1, -1, -1, -1, -1, -1, -1, -1, -1, -1, -1, -1, -1, -1, -1, -1, -1, -1, -1, -1, -1, -1, -1, -1, -1, -1, -1, -1, -1, -1, -1, -1, -1, -1, -1, -1, -1, -1, -1, -1, -1, -1, -1, -1, -1, -1, -1, 1, -1, -1, -1, -1, -1, -1, -1, -1, -1, -1, -1, -1, -1, -1, -1, -1, -1, -1, -1, -1, -1, -1, -1, -1, -1, -1, -1, -1, -1, -1, -1, -1, -1, -1, 1, -1, -1, -1, -1, -1, -1, -1, 1, -1, -1, -1, -1, -1, -1, -1, -1, -1, -1, -1, -1, -1, -1, -1, -1, -1, -1, -1, -1, -1, -1, -1, -1, -1, -1, -1, -1, -1, -1, -1, -1, -1, -1, -1, -1, -1, -1, -1, -1, -1, -1, -1, -1, -1, -1, -1, -1, -1, -1, -1, -1, -1, -1, -1, -1, -1, -1, -1, -1, -1, -1, -1, -1, -1, -1, -1, -1, -1, -1, -1, -1, -1, -1, -1, 1, -1, -1, -1, -1, -1, -1, -1, -1, -1, -1, -1, -1, -1, -1, -1, -1, -1, -1, -1, -1, -1, -1, -1, -1, -1, -1, -1, 1, -1, -1, -1, 1, -1, -1, -1, -1, -1, -1, -1, -1, -1, -1, -1, -1, -1, -1, -1, 1, -1, -1, -1, -1, -1, -1, -1, 1, -1, -1, 1, -1, -1, -1, -1, -1, -1, -1, -1, -1, -1, -1, 1, -1, -1, -1, -1, -1, -1, -1, -1, -1, -1, -1, -1, 1, -1, -1, -1, -1, -1, -1, -1, -1, -1, -1, -1, -1, -1, -1, -1, -1, -1, -1, -1, -1, -1, -1, -1, -1, -1, -1, -1, -1, -1, -1, -1, -1, -1, -1, -1, -1, -1, -1, -1, -1, -1, -1, -1, -1, -1, -1, -1, -1, -1, -1, -1, -1, -1, -1, -1, -1, -1, -1, -1, -1, -1, -1, -1, -1, -1, -1, -1, -1, -1, -1, -1, -1, -1, -1, -1, -1, -1, -1, -1, -1, -1, -1, -1, -1, -1, -1, -1, -1, -1, -1, -1, -1, -1, -1, -1, -1, -1, -1, -1, -1, -1, -1, -1, -1, -1, -1, -1, -1, -1, -1, -1, -1, -1, -1, -1, -1, -1, -1, -1, -1, -1, -1, -1, -1, -1, -1, -1, -1, -1, -1, -1, -1, -1, -1, -1, -1, -1, -1, -1, -1, -1, -1, -1, -1, -1, -1, -1, -1, -1, -1, 1, -1, -1, -1, -1, -1, 1, -1, -1, -1, -1, -1, -1, -1, -1, -1, -1, -1, -1, -1, -1, -1, -1, -1, -1, -1, -1, -1, -1, -1, -1, -1, -1, -1, -1, 1, -1, -1, -1, -1, -1, -1, -1, -1, -1, -1, -1, -1, -1, -1, -1, -1, -1, -1, -1, -1, -1, -1, -1, -1, -1, -1, -1, -1, -1, -1, -1, -1, -1, -1, -1, -1, -1, -1, -1, -1, -1, -1, -1, -1, -1, -1, -1, -1, -1, -1, -1, -1, -1, -1, -1, -1, -1, -1, -1, -1, -1, -1, -1, -1, -1, -1, -1, -1, -1, -1, -1, -1, -1, -1, -1, -1, -1, -1, -1, -1, -1, -1, -1, 1, -1, -1, -1, -1, -1, -1, -1, -1, -1, -1, -1, -1, -1, -1, -1, -1, 1, -1, -1, -1, -1, -1, -1, -1, -1, -1, -1, -1, -1, -1, -1, 1, -1, -1, -1, -1, -1, -1, -1, -1, -1, -1, -1, -1, -1, -1, -1, 1, -1, -1, -1, -1, -1, -1, -1, -1, -1, -1, -1, -1, -1, -1, -1, -1, -1, -1, -1, -1, -1, -1, -1, -1, -1, -1, -1, -1, -1, -1, -1, -1, -1, -1, 1, -1, -1, -1, -1, -1, -1, -1, -1, -1, -1, -1, -1, -1, -1, -1, -1, -1, -1, -1, -1, -1, -1, -1, -1, -1, -1, -1, -1, -1, -1, -1, -1, -1, -1, -1, -1, -1, -1, -1, -1, -1, -1, 1, -1, -1, 1, -1, 1, -1, -1, -1, -1, -1, -1, -1, -1, -1, -1, -1, -1, -1, -1, -1, -1, -1, -1, -1, -1, -1, -1, -1, -1, -1, -1, 1, -1, -1, -1, -1, -1, -1, -1, -1, -1, 1, -1, -1, -1, -1, -1, -1, -1, 1, 1, -1, -1, -1, -1, 1, 1, -1, -1, -1, -1, -1, 1, -1, -1, -1, -1, -1, -1, -1, -1, -1, -1, -1, -1, 1, -1, -1, -1, -1, -1, -1, -1, -1, -1, -1, 1, -1, -1, -1, -1, -1, -1, -1, 1, -1, 1, -1, -1, -1, -1, 1, -1, -1, -1, -1, -1, -1, 1, -1, -1, -1, -1, -1, -1, -1, -1, -1, -1, -1, 1, -1, -1, -1, -1, -1, -1, -1, -1, -1, -1, 1, -1, -1, -1, -1, -1, -1, -1, -1, 1, -1, -1, -1, -1, -1, -1, -1, -1, -1, -1, -1, -1, -1, -1, -1, -1, -1, -1, -1, -1, -1, -1, -1, -1, -1, -1, -1]\n"
     ]
    }
   ],
   "source": [
    "\n",
    "# Initialize a dictionary to store labels\n",
    "label_dict = {}\n",
    "\n",
    "# Iterate over keys and find corresponding labels\n",
    "for key in key1:\n",
    "    # Find rows where the key is present in the 'Review' column\n",
    "    matching_rows = df1[df1['Review'].str.contains(key, case=False)]\n",
    "    \n",
    "    # Get labels for matching rows\n",
    "    labels = matching_rows['Category'].tolist()\n",
    "    \n",
    "    # Update the dictionary with the key and corresponding labels\n",
    "    label_dict[key] = labels\n",
    "\n",
    "# Display the label dictionary\n",
    "print((label_dict['button']))\n"
   ]
  },
  {
   "cell_type": "code",
   "execution_count": 88,
   "id": "1902878b",
   "metadata": {
    "collapsed": true,
    "jupyter": {
     "outputs_hidden": true
    }
   },
   "outputs": [
    {
     "name": "stdout",
     "output_type": "stream",
     "text": [
      "[0, 0, 0, 0, 0, 0, 0, 0, 0, 0, 0, 0, 0, 0, 0, 0, 0, 0, 0, 0, 0, 0, 0, 0, 0, 0, 0, 0, 0, 0, 0, 0, 0, 0, 0, 0, 0, 0, 0, 0, 0, 0, 0, 0, 0, 0, 0, 0, 0, 0, 0, 0, 0, 0, 0, 0, 0, 0, 0, 0, 0, 0, 0, 0, 0, 0, 0, 0, 0, 0, 0, 0, 0, 0, 0, 0, 0, 0, 0, 0, 0, 0, 0]\n"
     ]
    }
   ],
   "source": [
    "sum1 = []\n",
    "for key in key1:\n",
    "    # Assuming label_dict is your dictionary\n",
    "    total_sum = sum(label_dict[key])\n",
    "    if(total_sum>=0):\n",
    "        total_sum = 1\n",
    "    else:\n",
    "        total_sum = 0\n",
    "    sum1.append(total_sum)\n",
    "    total_sum = 0\n",
    "print(sum1)"
   ]
  },
  {
   "cell_type": "code",
   "execution_count": 157,
   "id": "0a6080b0",
   "metadata": {
    "collapsed": true,
    "jupyter": {
     "outputs_hidden": true
    }
   },
   "outputs": [
    {
     "name": "stdout",
     "output_type": "stream",
     "text": [
      "[-1, -1, -1, -1, -1, -1, -1, -1, -1, -1, -1, -1, -1, -1, -1, -1, -1, -1, -1, -1, -1, -1, 1, -1, -1, -1, -1, -1, -1, -1, -1, -1, -1, -1, -1, -1, -1, 1, -1, -1, -1, -1, -1, -1, -1, -1, -1, -1, -1, -1, -1, -1, -1, -1, -1, -1, -1, -1, -1, -1, -1, -1, -1, -1, -1, -1, -1, -1, -1, -1, -1, -1, -1, -1, -1, -1, -1, -1, -1, -1, -1, -1, -1, -1, -1, -1, -1, -1, -1, -1, -1, -1, -1, -1, -1, -1, -1, -1, -1, -1, -1, -1, -1, -1, -1, -1, -1, -1, -1, -1, -1, -1, -1, -1, -1, -1, -1, -1, -1, -1, -1, -1, -1, -1, -1, -1, -1, -1, -1, -1, -1, -1, -1, -1, -1, -1, -1, -1, -1, -1, -1, -1, -1, -1, -1, -1, -1, -1, -1, -1, -1, -1, -1, -1, -1, -1, -1, -1, -1, -1, -1, -1, -1, -1, -1, -1, -1, -1, -1, -1, -1, -1, -1, -1, -1, -1, -1, -1, -1, -1, -1, -1, -1, -1, -1, -1, -1, -1, -1, -1, -1, -1, -1, -1, -1, -1, -1, -1, -1, -1, -1, -1, -1, -1, -1, -1, 1, -1, -1, -1, -1, -1, -1, -1, -1, -1, -1, -1, -1, -1, -1, -1, -1, -1, -1, -1, -1, -1, -1, -1, -1, -1, -1, -1, -1, -1, -1, -1, -1, -1, -1, -1, -1, -1, -1, -1, 1, -1, -1, -1, -1, -1, -1, -1, -1, -1, -1, -1, -1, -1, -1, -1, -1, -1, -1, -1, 1, 1, -1, 1, -1, -1, -1, -1, -1, -1, -1, -1, -1, -1, -1, -1, -1, -1, -1, -1, -1, -1, -1, -1, -1, -1, -1, -1, -1, -1, -1, -1, -1, -1, -1, -1, 1, -1, -1, -1, -1, -1, -1, -1, -1, -1, -1, -1, -1, -1, -1, -1, -1, 1, -1, -1, -1, -1, -1, -1, 1, -1, -1, -1, -1, 1, -1, -1, -1, -1, -1, -1, -1, -1, -1, -1, -1, -1, -1, -1, -1, -1, -1, -1, -1, -1, -1, -1, -1, -1, -1, -1, -1, -1, -1, -1, -1, -1, 1, -1, -1, -1, -1, -1, -1, -1, -1, -1, -1, -1, 1, -1, -1, -1, -1, -1, -1, -1, -1, -1, -1, -1, -1, -1, -1, -1, -1, -1, -1, -1, -1, -1, -1, -1, -1, -1, -1, -1, -1, -1, -1, -1, -1, -1, -1, -1, -1, -1, -1, -1, -1, -1, -1, -1, -1, -1, -1, -1, -1, -1, -1, -1, -1, -1, -1, -1, -1, -1, -1, -1, -1, -1, -1, -1, -1, -1, -1, -1, 1, -1, -1, -1, -1, -1, -1, -1, -1, -1, -1, -1, -1, -1, -1, -1, -1, -1, -1, -1, -1, -1, -1, -1, -1, -1, -1, -1, -1, -1, -1, -1, -1, -1, -1, 1, -1, -1, -1, -1, -1, -1, -1, 1, -1, -1, -1, -1, -1, -1, -1, -1, -1, -1, -1, -1, -1, -1, -1, -1, -1, -1, -1, -1, -1, -1, -1, -1, -1, -1, -1, -1, -1, -1, -1, -1, -1, -1, -1, -1, -1, -1, -1, -1, -1, -1, -1, -1, -1, -1, -1, -1, -1, -1, -1, -1, -1, -1, -1, -1, -1, -1, -1, -1, -1, -1, -1, -1, -1, -1, -1, -1, -1, -1, -1, -1, -1, -1, -1, 1, -1, -1, -1, -1, -1, -1, -1, -1, -1, -1, -1, -1, -1, -1, -1, -1, -1, -1, -1, -1, -1, -1, -1, -1, -1, -1, -1, 1, -1, -1, -1, 1, -1, -1, -1, -1, -1, -1, -1, -1, -1, -1, -1, -1, -1, -1, -1, 1, -1, -1, -1, -1, -1, -1, -1, 1, -1, -1, 1, -1, -1, -1, -1, -1, -1, -1, -1, -1, -1, -1, 1, -1, -1, -1, -1, -1, -1, -1, -1, -1, -1, -1, -1, 1, -1, -1, -1, -1, -1, -1, -1, -1, -1, -1, -1, -1, -1, -1, -1, -1, -1, -1, -1, -1, -1, -1, -1, -1, -1, -1, -1, -1, -1, -1, -1, -1, -1, -1, -1, -1, -1, -1, -1, -1, -1, -1, -1, -1, -1, -1, -1, -1, -1, -1, -1, -1, -1, -1, -1, -1, -1, -1, -1, -1, -1, -1, -1, -1, -1, -1, -1, -1, -1, -1, -1, -1, -1, -1, -1, -1, -1, -1, -1, -1, -1, -1, -1, -1, -1, -1, -1, -1, -1, -1, -1, -1, -1, -1, -1, -1, -1, -1, -1, -1, -1, -1, -1, -1, -1, -1, -1, -1, -1, -1, -1, -1, -1, -1, -1, -1, -1, -1, -1, -1, -1, -1, -1, -1, -1, -1, -1, -1, -1, -1, -1, -1, -1, -1, -1, -1, -1, -1, -1, -1, -1, -1, -1, -1, -1, -1, -1, -1, -1, -1, 1, -1, -1, -1, -1, -1, 1, -1, -1, -1, -1, -1, -1, -1, -1, -1, -1, -1, -1, -1, -1, -1, -1, -1, -1, -1, -1, -1, -1, -1, -1, -1, -1, -1, -1, 1, -1, -1, -1, -1, -1, -1, -1, -1, -1, -1, -1, -1, -1, -1, -1, -1, -1, -1, -1, -1, -1, -1, -1, -1, -1, -1, -1, -1, -1, -1, -1, -1, -1, -1, -1, -1, -1, -1, -1, -1, -1, -1, -1, -1, -1, -1, -1, -1, -1, -1, -1, -1, -1, -1, -1, -1, -1, -1, -1, -1, -1, -1, -1, -1, -1, -1, -1, -1, -1, -1, -1, -1, -1, -1, -1, -1, -1, -1, -1, -1, -1, -1, -1, 1, -1, -1, -1, -1, -1, -1, -1, -1, -1, -1, -1, -1, -1, -1, -1, -1, 1, -1, -1, -1, -1, -1, -1, -1, -1, -1, -1, -1, -1, -1, -1, 1, -1, -1, -1, -1, -1, -1, -1, -1, -1, -1, -1, -1, -1, -1, -1, 1, -1, -1, -1, -1, -1, -1, -1, -1, -1, -1, -1, -1, -1, -1, -1, -1, -1, -1, -1, -1, -1, -1, -1, -1, -1, -1, -1, -1, -1, -1, -1, -1, -1, -1, 1, -1, -1, -1, -1, -1, -1, -1, -1, -1, -1, -1, -1, -1, -1, -1, -1, -1, -1, -1, -1, -1, -1, -1, -1, -1, -1, -1, -1, -1, -1, -1, -1, -1, -1, -1, -1, -1, -1, -1, -1, -1, -1, 1, -1, -1, 1, -1, 1, -1, -1, -1, -1, -1, -1, -1, -1, -1, -1, -1, -1, -1, -1, -1, -1, -1, -1, -1, -1, -1, -1, -1, -1, -1, -1, 1, -1, -1, -1, -1, -1, -1, -1, -1, -1, 1, -1, -1, -1, -1, -1, -1, -1, 1, 1, -1, -1, -1, -1, 1, 1, -1, -1, -1, -1, -1, 1, -1, -1, -1, -1, -1, -1, -1, -1, -1, -1, -1, -1, 1, -1, -1, -1, -1, -1, -1, -1, -1, -1, -1, 1, -1, -1, -1, -1, -1, -1, -1, 1, -1, 1, -1, -1, -1, -1, 1, -1, -1, -1, -1, -1, -1, 1, -1, -1, -1, -1, -1, -1, -1, -1, -1, -1, -1, 1, -1, -1, -1, -1, -1, -1, -1, -1, -1, -1, 1, -1, -1, -1, -1, -1, -1, -1, -1, 1, -1, -1, -1, -1, -1, -1, -1, -1, -1, -1, -1, -1, -1, -1, -1, -1, -1, -1, -1, -1, -1, -1, -1, -1, -1, -1, -1]\n"
     ]
    }
   ],
   "source": [
    "print(label_dict['button'])"
   ]
  },
  {
   "cell_type": "code",
   "execution_count": 90,
   "id": "a9a5e1a9",
   "metadata": {
    "collapsed": true,
    "jupyter": {
     "outputs_hidden": true
    }
   },
   "outputs": [
    {
     "name": "stdout",
     "output_type": "stream",
     "text": [
      "[0, 0, 0, 0, 0, 0, 0, 0, 0, 0, 0, 0, 0, 0, 0, 0, 0, 0, 0, 0, 0, 0, 0, 0, 0, 0, 0, 0, 0, 0, 0, 0, 0, 0, 0, 0, 0, 0, 0, 0, 0, 0, 0, 0, 0, 0, 0, 0, 0, 0, 0, 0, 0, 0, 0, 0, 0, 0, 0, 0, 0, 0, 0, 0, 0, 0, 0, 0, 0, 0, 0, 0, 0, 0, 0, 0, 0, 0]\n"
     ]
    }
   ],
   "source": [
    "\n",
    "# Initialize a dictionary to store labels\n",
    "label_dict2 = {}\n",
    "\n",
    "# Iterate over keys and find corresponding labels\n",
    "for key in key2:\n",
    "    # Find rows where the key is present in the 'Review' column\n",
    "    matching_rows = df2[df2['Review'].str.contains(key, case=False)]\n",
    "    \n",
    "    # Get labels for matching rows\n",
    "    labels = matching_rows['Category'].tolist()\n",
    "    \n",
    "    # Update the dictionary with the key and corresponding labels\n",
    "    label_dict2[key] = labels\n",
    "\n",
    "# Display the label dictionary\n",
    "sum2 = []\n",
    "for key in key2:\n",
    "    # Assuming label_dict is your dictionary\n",
    "    total_sum = sum(label_dict2[key])\n",
    "    if(total_sum>=0):\n",
    "        total_sum = 1\n",
    "    else:\n",
    "        total_sum = 0\n",
    "    sum2.append(total_sum)\n",
    "    total_sum = 0\n",
    "print(sum2)\n"
   ]
  },
  {
   "cell_type": "code",
   "execution_count": 104,
   "id": "6ffc8b8f",
   "metadata": {},
   "outputs": [],
   "source": [
    "dd = word_value_dict\n",
    "dd2 = word_value_dict2"
   ]
  },
  {
   "cell_type": "markdown",
   "id": "3f2c14c4",
   "metadata": {},
   "source": [
    "<h3>Appending Sentiments to dictionary of Topics/Keywords for Playstore Data (all 0 in this case)<h3>"
   ]
  },
  {
   "cell_type": "code",
   "execution_count": 105,
   "id": "e449c80b",
   "metadata": {
    "collapsed": true,
    "jupyter": {
     "outputs_hidden": true
    }
   },
   "outputs": [
    {
     "name": "stdout",
     "output_type": "stream",
     "text": [
      "{'nothing': [0.034, 0.0, 0.0], 'everything': [0.064, 0.0, 0.0], 'app': [0.669, 0.0, 0.0], 'session': [0.046, 0.0, 0.0], 'facebook': [0.591, 0.0, 0.0], 'button': [0.175, 0.0, 0.0], 'update': [0.111, 0.0, 0.0], 'phone': [0.125, 0.0, 0.0], 'ad': [0.051, 0.0, 0.0], 'ads': [0.25, 0.0, 0.0], 'feed': [0.073, 0.0, 0.0], 'news': [0.062, 0.0, 0.0], 'content': [0.059, 0.0, 0.0], 'features': [0.032, 0.0, 0.0], 'people': [0.077, 0.0, 0.0], 'share': [0.045, 0.0, 0.0], 'time': [0.10300000000000001, 0.0, 0.0], 'updates': [0.042, 0.0, 0.0], 'please': [0.028, 0.0, 0.0], 'page': [0.089, 0.0, 0.0], 'issue': [0.048, 0.0, 0.0], 'profile': [0.032, 0.0, 0.0], 'star': [0.046, 0.0, 0.0], 'freedom': [0.104, 0.0, 0.0], 'application': [0.089, 0.0, 0.0], 'speech': [0.065, 0.0, 0.0], 'expression': [0.047, 0.0, 0.0], 'keyboard': [0.031, 0.0, 0.0], 'comments': [0.11, 0.0, 0.0], 'post': [0.107, 0.0, 0.0], 'comment': [0.061, 0.0, 0.0], 'keeps': [0.041, 0.0, 0.0], 'screen': [0.036, 0.0, 0.0], 'video': [0.219, 0.0, 0.0], 'version': [0.049, 0.0, 0.0], 'photos': [0.048, 0.0, 0.0], 'videos': [0.184, 0.0, 0.0], 'standards': [0.036, 0.0, 0.0], 'data': [0.078, 0.0, 0.0], 'privacy': [0.057, 0.0, 0.0], 'place': [0.051, 0.0, 0.0], 'community': [0.041, 0.0, 0.0], 'groups': [0.035, 0.0, 0.0], 'posts': [0.174, 0.0, 0.0], 'friends': [0.166, 0.0, 0.0], 'pages': [0.083, 0.0, 0.0], 'family': [0.047, 0.0, 0.0], 'browser': [0.037, 0.0, 0.0], 'reels': [0.089, 0.0, 0.0], 'option': [0.053, 0.0, 0.0], 'auto': [0.033, 0.0, 0.0], 'marketplace': [0.141, 0.0, 0.0], 'bar': [0.067, 0.0, 0.0], 'stories': [0.04, 0.0, 0.0], 'song': [0.037, 0.0, 0.0], 'picture': [0.039, 0.0, 0.0], 'problem': [0.109, 0.0, 0.0], 'music': [0.082, 0.0, 0.0], 'story': [0.075, 0.0, 0.0], 'accounts': [0.044, 0.0, 0.0], 'problems': [0.057, 0.0, 0.0], 'lot': [0.055, 0.0, 0.0], 'apps': [0.049, 0.0, 0.0], 'money': [0.031, 0.0, 0.0], 'information': [0.074, 0.0, 0.0], 'system': [0.038, 0.0, 0.0], 'meta': [0.035, 0.0, 0.0], 'days': [0.037, 0.0, 0.0], 'notifications': [0.151, 0.0, 0.0], 'times': [0.071, 0.0, 0.0], 'day': [0.067, 0.0, 0.0], 'account': [0.222, 0.0, 0.0], 'password': [0.051, 0.0, 0.0], 'email': [0.039, 0.0, 0.0], 'someone': [0.049, 0.0, 0.0], 'messages': [0.086, 0.0, 0.0], 'notification': [0.071, 0.0, 0.0], 'message': [0.054, 0.0, 0.0], 'messenger': [0.053, 0.0, 0.0], 'events': [0.022, 0.0, 0.0], 'fb': [0.27, 0.0, 0.0], 'timeline': [0.024, 0.0, 0.0], 'memories': [0.023, 0.0, 0.0], 'k': [0.0, 0.0], 'e': [0.0, 0.0], 'y': [0.0, 0.0], '3': [0.0, 0.0]}\n"
     ]
    }
   ],
   "source": [
    "\n",
    "# Specify the list of keys\n",
    "keys_to_update = key1\n",
    "\n",
    "# Specify the new value you want to append (a float in this case)\n",
    "new_value = 0.0\n",
    "\n",
    "# Update each key in the dictionary with the new value\n",
    "for key in keys_to_update:\n",
    "    current_value = dd.get(key)\n",
    "\n",
    "    if isinstance(current_value, list):\n",
    "        current_value.append(new_value)\n",
    "    else:\n",
    "        dd[key] = [current_value, new_value] if current_value is not None else [new_value]\n",
    "\n",
    "print(dd)\n"
   ]
  },
  {
   "cell_type": "code",
   "execution_count": 110,
   "id": "4567301b",
   "metadata": {
    "collapsed": true,
    "jupyter": {
     "outputs_hidden": true
    }
   },
   "outputs": [
    {
     "name": "stdout",
     "output_type": "stream",
     "text": [
      "The key 'k' has been deleted.\n",
      "The key 'e' has been deleted.\n",
      "The key 'y' has been deleted.\n",
      "The key '3' has been deleted.\n",
      "{'nothing': [0.034, 0.0, 0.0], 'everything': [0.064, 0.0, 0.0], 'app': [0.669, 0.0, 0.0], 'session': [0.046, 0.0, 0.0], 'facebook': [0.591, 0.0, 0.0], 'button': [0.175, 0.0, 0.0], 'update': [0.111, 0.0, 0.0], 'phone': [0.125, 0.0, 0.0], 'ad': [0.051, 0.0, 0.0], 'ads': [0.25, 0.0, 0.0], 'feed': [0.073, 0.0, 0.0], 'news': [0.062, 0.0, 0.0], 'content': [0.059, 0.0, 0.0], 'features': [0.032, 0.0, 0.0], 'people': [0.077, 0.0, 0.0], 'share': [0.045, 0.0, 0.0], 'time': [0.10300000000000001, 0.0, 0.0], 'updates': [0.042, 0.0, 0.0], 'please': [0.028, 0.0, 0.0], 'page': [0.089, 0.0, 0.0], 'issue': [0.048, 0.0, 0.0], 'profile': [0.032, 0.0, 0.0], 'star': [0.046, 0.0, 0.0], 'freedom': [0.104, 0.0, 0.0], 'application': [0.089, 0.0, 0.0], 'speech': [0.065, 0.0, 0.0], 'expression': [0.047, 0.0, 0.0], 'keyboard': [0.031, 0.0, 0.0], 'comments': [0.11, 0.0, 0.0], 'post': [0.107, 0.0, 0.0], 'comment': [0.061, 0.0, 0.0], 'keeps': [0.041, 0.0, 0.0], 'screen': [0.036, 0.0, 0.0], 'video': [0.219, 0.0, 0.0], 'version': [0.049, 0.0, 0.0], 'photos': [0.048, 0.0, 0.0], 'videos': [0.184, 0.0, 0.0], 'standards': [0.036, 0.0, 0.0], 'data': [0.078, 0.0, 0.0], 'privacy': [0.057, 0.0, 0.0], 'place': [0.051, 0.0, 0.0], 'community': [0.041, 0.0, 0.0], 'groups': [0.035, 0.0, 0.0], 'posts': [0.174, 0.0, 0.0], 'friends': [0.166, 0.0, 0.0], 'pages': [0.083, 0.0, 0.0], 'family': [0.047, 0.0, 0.0], 'browser': [0.037, 0.0, 0.0], 'reels': [0.089, 0.0, 0.0], 'option': [0.053, 0.0, 0.0], 'auto': [0.033, 0.0, 0.0], 'marketplace': [0.141, 0.0, 0.0], 'bar': [0.067, 0.0, 0.0], 'stories': [0.04, 0.0, 0.0], 'song': [0.037, 0.0, 0.0], 'picture': [0.039, 0.0, 0.0], 'problem': [0.109, 0.0, 0.0], 'music': [0.082, 0.0, 0.0], 'story': [0.075, 0.0, 0.0], 'accounts': [0.044, 0.0, 0.0], 'problems': [0.057, 0.0, 0.0], 'lot': [0.055, 0.0, 0.0], 'apps': [0.049, 0.0, 0.0], 'money': [0.031, 0.0, 0.0], 'information': [0.074, 0.0, 0.0], 'system': [0.038, 0.0, 0.0], 'meta': [0.035, 0.0, 0.0], 'days': [0.037, 0.0, 0.0], 'notifications': [0.151, 0.0, 0.0], 'times': [0.071, 0.0, 0.0], 'day': [0.067, 0.0, 0.0], 'account': [0.222, 0.0, 0.0], 'password': [0.051, 0.0, 0.0], 'email': [0.039, 0.0, 0.0], 'someone': [0.049, 0.0, 0.0], 'messages': [0.086, 0.0, 0.0], 'notification': [0.071, 0.0, 0.0], 'message': [0.054, 0.0, 0.0], 'messenger': [0.053, 0.0, 0.0], 'events': [0.022, 0.0, 0.0], 'fb': [0.27, 0.0, 0.0], 'timeline': [0.024, 0.0, 0.0], 'memories': [0.023, 0.0, 0.0]}\n"
     ]
    }
   ],
   "source": [
    "# List of keys to be deleted\n",
    "keys_to_delete = ['k', 'e', 'y', '3']\n",
    "\n",
    "# Delete each key from the dictionary\n",
    "for key in keys_to_delete:\n",
    "    if key in dd:\n",
    "        del dd[key]\n",
    "        print(f\"The key '{key}' has been deleted.\")\n",
    "    else:\n",
    "        print(f\"The key '{key}' does not exist in the dictionary.\")\n",
    "\n",
    "# Print the updated dictionary\n",
    "print(dd)"
   ]
  },
  {
   "cell_type": "code",
   "execution_count": 113,
   "id": "383dbb9b",
   "metadata": {},
   "outputs": [
    {
     "data": {
      "text/plain": [
       "83"
      ]
     },
     "execution_count": 113,
     "metadata": {},
     "output_type": "execute_result"
    }
   ],
   "source": [
    "num_keys = len(dd)\n",
    "num_keys"
   ]
  },
  {
   "cell_type": "markdown",
   "id": "dcf88823",
   "metadata": {},
   "source": [
    "<h3>Appending Sentiments to dictionary of Topics/Keywords for Appstore Data (also all 0 in this case)<h3>"
   ]
  },
  {
   "cell_type": "code",
   "execution_count": 115,
   "id": "193b992c",
   "metadata": {
    "collapsed": true,
    "jupyter": {
     "outputs_hidden": true
    }
   },
   "outputs": [
    {
     "name": "stdout",
     "output_type": "stream",
     "text": [
      "The key 'k' does not exist in the dictionary.\n",
      "The key 'e' does not exist in the dictionary.\n",
      "The key 'y' does not exist in the dictionary.\n",
      "The key '3' does not exist in the dictionary.\n",
      "{'platform': [0.039, 0.0], 'facebook': [0.49399999999999994, 0.0], 'people': [0.25, 0.0], 'fact': [0.029, 0.0], 'speech': [0.025, 0.0], 'money': [0.036, 0.0], 'meta': [0.05, 0.0], 'tiktok': [0.048, 0.0], 'mark': [0.04, 0.0], 'data': [0.04, 0.0], 'june': [0.018, 0.0], 'creators': [0.036, 0.0], 'dating': [0.03, 0.0], 'baby': [0.026, 0.0], 'scams': [0.026, 0.0], 'pages': [0.014, 0.0], 'business': [0.074, 0.0], 'page': [0.089, 0.0], 'trafficking': [0.015, 0.0], 'sounds': [0.032, 0.0], 'volume': [0.026, 0.0], 'reel': [0.023, 0.0], 'action': [0.02, 0.0], 'place': [0.019, 0.0], 'company': [0.032, 0.0], 'app': [0.28099999999999997, 0.0], 'videos': [0.018, 0.0], 'video': [0.026, 0.0], 'time': [0.022, 0.0], 'notifications': [0.126, 0.0], 'group': [0.07, 0.0], 'groups': [0.053, 0.0], 'notification': [0.038, 0.0], 'update': [0.024, 0.0], 'post': [0.037, 0.0], 'comments': [0.031, 0.0], 'help': [0.021, 0.0], 'account': [0.142, 0.0], 'phone': [0.028, 0.0], 'word': [0.013, 0.0], 'space': [0.031, 0.0], 'landscape': [0.016, 0.0], 'camera': [0.014, 0.0], 'night': [0.013, 0.0], 'truth': [0.022, 0.0], 'president': [0.041, 0.0], 'trump': [0.039, 0.0], 'states': [0.026, 0.0], 'avatar': [0.023, 0.0], 'photos': [0.097, 0.0], 'photo': [0.074, 0.0], 'option': [0.034, 0.0], 'watch': [0.019, 0.0], 'reels': [0.067, 0.0], 'lol': [0.028, 0.0], 'cat': [0.027, 0.0], 'notes': [0.024, 0.0], 'fb': [0.298, 0.0], 'ads': [0.077, 0.0], 'ad': [0.029, 0.0], 'friends': [0.063, 0.0], 'years': [0.023, 0.0], 'community': [0.031, 0.0], 'standards': [0.024, 0.0], 'posts': [0.065, 0.0], 'guys': [0.013, 0.0], 'women': [0.024, 0.0], 'children': [0.019, 0.0], 'theories': [0.019, 0.0], 'folks': [0.047, 0.0], 'description': [0.032, 0.0], 'conspiracy': [0.03, 0.0], 'voice': [0.023, 0.0], 'listings': [0.021, 0.0], 'marketplace': [0.19, 0.0], 'items': [0.055, 0.0], 'item': [0.036, 0.0], 'sale': [0.024, 0.0]}\n"
     ]
    }
   ],
   "source": [
    "# Specify the list of keys\n",
    "keys_to_update = key2\n",
    "\n",
    "# Specify the new value you want to append (a float in this case)\n",
    "new_value = 0.0\n",
    "\n",
    "# Update each key in the dictionary with the new value\n",
    "for key in keys_to_update:\n",
    "    current_value = dd2.get(key)\n",
    "\n",
    "    if isinstance(current_value, list):\n",
    "        current_value.append(new_value)\n",
    "    else:\n",
    "        dd2[key] = [current_value, new_value] if current_value is not None else [new_value]\n",
    "\n",
    "# List of keys to be deleted\n",
    "keys_to_delete = ['k', 'e', 'y', '3']\n",
    "\n",
    "# Delete each key from the dictionary\n",
    "for key in keys_to_delete:\n",
    "    if key in dd2:\n",
    "        del dd2[key]\n",
    "        print(f\"The key '{key}' has been deleted.\")\n",
    "    else:\n",
    "        print(f\"The key '{key}' does not exist in the dictionary.\")\n",
    "\n",
    "# Print the updated dictionary\n",
    "print(dd2)"
   ]
  },
  {
   "cell_type": "code",
   "execution_count": 116,
   "id": "aa0dfe30",
   "metadata": {},
   "outputs": [
    {
     "data": {
      "text/plain": [
       "78"
      ]
     },
     "execution_count": 116,
     "metadata": {},
     "output_type": "execute_result"
    }
   ],
   "source": [
    "num_keys = len(dd2)\n",
    "num_keys"
   ]
  },
  {
   "cell_type": "markdown",
   "id": "3f0846b3",
   "metadata": {},
   "source": [
    "<h3>Finding the Relevant Keywords from the previous 2 dictionaries with Facebook App features<h3>"
   ]
  },
  {
   "cell_type": "code",
   "execution_count": 132,
   "id": "61a1902f",
   "metadata": {},
   "outputs": [],
   "source": [
    "facebook_features = ['messenger', 'newsfeed', 'photos', 'song', 'video', 'back', 'button', 'gaming', 'marketplace', 'notification', 'menu', 'reels',\n",
    "                     'story', 'cover', 'cover photo', 'profile', 'friend', 'event', 'timeline', 'groups', 'status', 'save', 'posts', 'like', 'comments',\n",
    "                    'share', 'reacts', 'privacy', 'album', 'login', 'signup', 'register', 'pages', 'ad', 'advertisement', 'dating', 'memory', 'message'\n",
    "                     ]\n",
    "#  'stories', 'notifications', 'videos', 'community', 'updates', 'update'"
   ]
  },
  {
   "cell_type": "code",
   "execution_count": 151,
   "id": "8800416e",
   "metadata": {},
   "outputs": [
    {
     "name": "stderr",
     "output_type": "stream",
     "text": [
      "[nltk_data] Downloading package omw-1.4 to /home/mrahm/nltk_data...\n"
     ]
    },
    {
     "data": {
      "text/plain": [
       "True"
      ]
     },
     "execution_count": 151,
     "metadata": {},
     "output_type": "execute_result"
    }
   ],
   "source": [
    "import nltk\n",
    "nltk.download('omw-1.4')"
   ]
  },
  {
   "cell_type": "code",
   "execution_count": 155,
   "id": "1d6447c7",
   "metadata": {},
   "outputs": [
    {
     "name": "stdout",
     "output_type": "stream",
     "text": [
      "Features of the Facebook app from Playstore that is most talked about:['messenger', 'photos', 'song', 'video', 'button', 'marketplace', 'notification', 'reels', 'story', 'profile', 'friend', 'event', 'timeline', 'groups', 'posts', 'comments', 'share', 'privacy', 'pages', 'ad', 'memory', 'message']\n",
      "///////////////\n",
      "Features of the Facebook app from Playstore that is not talked about:['newsfeed', 'back', 'gaming', 'menu', 'cover', 'cover photo', 'status', 'save', 'like', 'reacts', 'album', 'login', 'signup', 'register', 'advertisement', 'dating']\n"
     ]
    }
   ],
   "source": [
    "# from fuzzywuzzy import fuzz\n",
    "\n",
    "# # Threshold for considering a match\n",
    "# threshold = 80  # You can adjust this based on your requirements\n",
    "\n",
    "# # Function to find the closest match\n",
    "# def find_closest_match(word, dictionary):\n",
    "#     matches = [(key, fuzz.ratio(word, key)) for key in dictionary]\n",
    "#     closest_match = max(matches, key=lambda x: x[1])\n",
    "#     if closest_match[1] >= threshold:\n",
    "#         return closest_match[0]\n",
    "#     else:\n",
    "#         return None\n",
    "\n",
    "# # Perform word matching\n",
    "# matched_words = {word: find_closest_match(word, dd) for word in facebook_features}\n",
    "\n",
    "# matching1 = []\n",
    "# not_matching1 = []\n",
    "# # Print matched words\n",
    "# for word, match in matched_words.items():\n",
    "#     if match is not None:\n",
    "#         #print(f\"{word} matched with {match} in the dictionary.\")\n",
    "# c    else:\n",
    "#         #print(f\"No match found for {word} in the dictionary.\")\n",
    "#         not_matching1.append(word)\n",
    "\n",
    "# print(f\"Features of the Facebook app from Playstore that is most talked about:{matching1}\")\n",
    "# print('///////////////')\n",
    "# print(f\"Features of the Facebook app from Playstore that is not talked about:{not_matching1}\")\n",
    "\n",
    "\n",
    "from fuzzywuzzy import fuzz\n",
    "from nltk.stem import WordNetLemmatizer\n",
    "\n",
    "# Download the WordNet data for lemmatization\n",
    "\n",
    "\n",
    "# Threshold for considering a match\n",
    "threshold = 80  # You can adjust this based on your requirements\n",
    "\n",
    "# Lemmatizer for reducing words to their base forms\n",
    "lemmatizer = WordNetLemmatizer()\n",
    "\n",
    "# Function to find the closest match\n",
    "def find_closest_match(word, dictionary):\n",
    "    word_base = lemmatizer.lemmatize(word.lower())  # Convert to lowercase and lemmatize\n",
    "    matches = [(key, fuzz.ratio(word_base, lemmatizer.lemmatize(key.lower()))) for key in dictionary]\n",
    "    closest_match = max(matches, key=lambda x: x[1])\n",
    "    if closest_match[1] >= threshold:\n",
    "        return closest_match[0]\n",
    "    else:\n",
    "        return None\n",
    "\n",
    "# Perform word matching\n",
    "matched_words = {word: find_closest_match(word, dd) for word in facebook_features}\n",
    "\n",
    "matching1 = []\n",
    "not_matching1 = []\n",
    "# Print matched words\n",
    "for word, match in matched_words.items():\n",
    "    if match is not None:\n",
    "        #print(f\"{word} matched with {match} in the dictionary.\")\n",
    "        matching1.append(word)\n",
    "    else:\n",
    "        #print(f\"No match found for {word} in the dictionary.\")\n",
    "        not_matching1.append(word)\n",
    "print(f\"Features of the Facebook app from Playstore that is most talked about:{matching1}\")\n",
    "print('///////////////')\n",
    "print(f\"Features of the Facebook app from Playstore that is not talked about:{not_matching1}\")"
   ]
  },
  {
   "cell_type": "code",
   "execution_count": 139,
   "id": "958a6977",
   "metadata": {},
   "outputs": [
    {
     "name": "stdout",
     "output_type": "stream",
     "text": [
      "Features of the Facebook app from Appstore that is most talked about:['photos', 'video', 'marketplace', 'notification', 'reels', 'friend', 'groups', 'status', 'posts', 'comments', 'pages', 'ad', 'dating']\n",
      "///////////////\n",
      "Features of the Facebook app from Appstore that is not talked about:['messenger', 'newsfeed', 'song', 'back', 'button', 'gaming', 'menu', 'story', 'cover', 'cover photo', 'profile', 'event', 'timeline', 'save', 'like', 'share', 'reacts', 'privacy', 'album', 'login', 'signup', 'register', 'advertisement', 'memory', 'message']\n"
     ]
    }
   ],
   "source": [
    "from fuzzywuzzy import fuzz\n",
    "\n",
    "# Threshold for considering a match\n",
    "threshold = 80  # You can adjust this based on your requirements\n",
    "\n",
    "# Function to find the closest match\n",
    "def find_closest_match(word, dictionary):\n",
    "    matches = [(key, fuzz.ratio(word, key)) for key in dictionary]\n",
    "    closest_match = max(matches, key=lambda x: x[1])\n",
    "    if closest_match[1] >= threshold:\n",
    "        return closest_match[0]\n",
    "    else:\n",
    "        return None\n",
    "\n",
    "# Perform word matching\n",
    "matched_words = {word: find_closest_match(word, dd2) for word in facebook_features}\n",
    "\n",
    "matching2 = []\n",
    "not_matching2 = []\n",
    "# Print matched words\n",
    "for word, match in matched_words.items():\n",
    "    if match is not None:\n",
    "        #print(f\"{word} matched with {match} in the dictionary.\")\n",
    "        matching2.append(word)\n",
    "    else:\n",
    "        #print(f\"No match found for {word} in the dictionary.\")\n",
    "        not_matching2.append(word)\n",
    "\n",
    "print(f\"Features of the Facebook app from Appstore that is most talked about:{matching2}\")\n",
    "print('///////////////')\n",
    "print(f\"Features of the Facebook app from Appstore that is not talked about:{not_matching2}\")"
   ]
  },
  {
   "cell_type": "code",
   "execution_count": 140,
   "id": "9f09cbbe",
   "metadata": {},
   "outputs": [
    {
     "name": "stdout",
     "output_type": "stream",
     "text": [
      "The following features are talked about in both of the apps: \n",
      "photos\n",
      "video\n",
      "marketplace\n",
      "notification\n",
      "reels\n",
      "friend\n",
      "groups\n",
      "posts\n",
      "comments\n",
      "pages\n",
      "ad\n"
     ]
    }
   ],
   "source": [
    "print(\"The following features are talked about in both of the apps: \")\n",
    "for word in matching1:\n",
    "    if word in matching2:\n",
    "        print(word)"
   ]
  },
  {
   "cell_type": "code",
   "execution_count": 143,
   "id": "569a8b6b",
   "metadata": {},
   "outputs": [
    {
     "name": "stdout",
     "output_type": "stream",
     "text": [
      "Some of the common non-feature matches: app\n",
      "Some of the common non-feature matches: facebook\n",
      "Some of the common non-feature matches: update\n",
      "Some of the common non-feature matches: phone\n",
      "Some of the common non-feature matches: ads\n",
      "Some of the common non-feature matches: people\n",
      "Some of the common non-feature matches: time\n",
      "Some of the common non-feature matches: updates\n",
      "Some of the common non-feature matches: page\n",
      "Some of the common non-feature matches: speech\n",
      "Some of the common non-feature matches: post\n",
      "Some of the common non-feature matches: videos\n",
      "Some of the common non-feature matches: standards\n",
      "Some of the common non-feature matches: data\n",
      "Some of the common non-feature matches: place\n",
      "Some of the common non-feature matches: community\n",
      "Some of the common non-feature matches: friends\n",
      "Some of the common non-feature matches: option\n",
      "Some of the common non-feature matches: stories\n",
      "Some of the common non-feature matches: accounts\n",
      "Some of the common non-feature matches: apps\n",
      "Some of the common non-feature matches: money\n",
      "Some of the common non-feature matches: meta\n",
      "Some of the common non-feature matches: notifications\n",
      "Some of the common non-feature matches: times\n",
      "Some of the common non-feature matches: account\n",
      "Some of the common non-feature matches: fb\n"
     ]
    }
   ],
   "source": [
    "from fuzzywuzzy import fuzz\n",
    "\n",
    "# Threshold for considering a match\n",
    "threshold = 80  # You can adjust this based on your requirements\n",
    "\n",
    "# Function to find the closest match for each word in dictionary1 in dictionary2\n",
    "def find_closest_matches(dict1, dict2):\n",
    "    matches = {}\n",
    "    for word1 in dict1:\n",
    "        closest_match = max([(word2, fuzz.ratio(word1, word2)) for word2 in dict2], key=lambda x: x[1])\n",
    "        if closest_match[1] >= threshold:\n",
    "            matches[word1] = closest_match[0]\n",
    "        else:\n",
    "            matches[word1] = None\n",
    "    return matches\n",
    "\n",
    "# Perform dictionary matching\n",
    "matched_words = find_closest_matches(dd, dd2)\n",
    "\n",
    "# Print matched words\n",
    "for word1, match in matched_words.items():\n",
    "    if match is not None and match not in matching1 and match not in matching2:\n",
    "        print(f\"Some of the common non-feature matches: {word1}\")\n"
   ]
  },
  {
   "cell_type": "code",
   "execution_count": null,
   "id": "e752f4ef",
   "metadata": {},
   "outputs": [],
   "source": []
  }
 ],
 "metadata": {
  "kernelspec": {
   "display_name": "Python 3",
   "language": "python",
   "name": "python3"
  },
  "language_info": {
   "codemirror_mode": {
    "name": "ipython",
    "version": 3
   },
   "file_extension": ".py",
   "mimetype": "text/x-python",
   "name": "python",
   "nbconvert_exporter": "python",
   "pygments_lexer": "ipython3",
   "version": "3.9.18"
  }
 },
 "nbformat": 4,
 "nbformat_minor": 5
}
