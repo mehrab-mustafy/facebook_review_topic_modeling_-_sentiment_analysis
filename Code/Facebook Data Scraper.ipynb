{
 "cells": [
  {
   "cell_type": "code",
   "execution_count": 1,
   "id": "50733307-05b2-4672-93f3-b82b34b90bde",
   "metadata": {},
   "outputs": [
    {
     "name": "stderr",
     "output_type": "stream",
     "text": [
      "/home/mrahm/anaconda3/envs/mlproject/lib/python3.12/site-packages/requests/__init__.py:89: RequestsDependencyWarning: urllib3 (2.1.0) or chardet (3.0.4) doesn't match a supported version!\n",
      "  warnings.warn(\"urllib3 ({}) or chardet ({}) doesn't match a supported \"\n",
      "2023-11-23 02:44:13,039 [INFO] Base - Initialised: AppStore('us', 'facebook', 284882215)\n",
      "2023-11-23 02:44:13,040 [INFO] Base - Ready to fetch reviews from: https://apps.apple.com/us/app/facebook/id284882215\n",
      "2023-11-23 02:44:18,049 [INFO] Base - [id:284882215] Fetched 3420 reviews (3420 fetched in total)\n",
      "2023-11-23 02:44:39,690 [ERROR] Base - Something went wrong: HTTPSConnectionPool(host='amp-api.apps.apple.com', port=443): Max retries exceeded with url: /v1/catalog/us/apps/284882215/reviews?l=en-GB&offset=6020&limit=20&platform=web&additionalPlatforms=appletv%2Cipad%2Ciphone%2Cmac (Caused by ResponseError('too many 429 error responses'))\n",
      "2023-11-23 02:44:39,693 [INFO] Base - [id:284882215] Fetched 6020 reviews (6020 fetched in total)\n"
     ]
    }
   ],
   "source": [
    "import numpy as np\n",
    "import pandas as pd\n",
    "import json\n",
    "import csv\n",
    "from app_store_scraper import AppStore\n",
    "facebook = AppStore(country='us', app_name='facebook', app_id = '284882215')\n",
    "\n",
    "facebook.review(how_many=10000)\n",
    "facebookdf = pd.DataFrame(np.array(facebook.reviews),columns=['review'])\n",
    "facebookdf2 = facebookdf.join(pd.DataFrame(facebookdf.pop('review').tolist()))\n",
    "\n",
    "facebookdf2.to_csv('app_store_facebook_reviews.csv')"
   ]
  },
  {
   "cell_type": "code",
   "execution_count": 6,
   "id": "a64e9609-f952-4439-82d8-22717feee27e",
   "metadata": {},
   "outputs": [
    {
     "data": {
      "text/plain": [
       "Index([], dtype='object')"
      ]
     },
     "execution_count": 6,
     "metadata": {},
     "output_type": "execute_result"
    }
   ],
   "source": [
    "facebookdf.columns"
   ]
  },
  {
   "cell_type": "code",
   "execution_count": null,
   "id": "a85924c9-80ef-41ec-af89-b68ce9669065",
   "metadata": {},
   "outputs": [],
   "source": [
    "from google_play_scraper import Sort, reviews\n",
    "import csv\n",
    "\n",
    "def fetch_reviews_from_play_store(app_package_name, filename, number_of_reviews, limit):\n",
    "    total_reviews_fetched = 0\n",
    "\n",
    "    # fetching initial reviews page\n",
    "    results, continuation_token = reviews(\n",
    "        app_package_name,  # app identifier or app package name\n",
    "        lang='en',  # defaults to 'en'\n",
    "        country='us',  # defaults to 'us'\n",
    "        sort=Sort.NEWEST,  # defaults to Sort.NEWEST\n",
    "        count=limit,  # defaults to 100\n",
    "    )\n",
    "\n",
    "    # creating a csv file\n",
    "    create_a_csv_file_with_columns(filename)\n",
    "    # appending records into a csv file\n",
    "    append_records_into_csv_file(filename, convert_reviews_into_records(results))\n",
    "\n",
    "    total_reviews_fetched += len(results)\n",
    "\n",
    "    # fetching reviews page by page until we fetch reviews equal to no_of_reviews\n",
    "    while total_reviews_fetched < number_of_reviews:\n",
    "        results, continuation_token = reviews(\n",
    "            app_package_name,\n",
    "            continuation_token=continuation_token  # load from the point where last review was fetched\n",
    "        )\n",
    "        # appending records into a csv file\n",
    "        append_records_into_csv_file(filename, convert_reviews_into_records(results))\n",
    "\n",
    "        total_reviews_fetched += len(results)\n",
    "\n",
    "    return total_reviews_fetched\n",
    "\n",
    "\n",
    "# this function create or replace an existing csv file with reviews columns name\n",
    "def create_a_csv_file_with_columns(filename):\n",
    "    columns = ['reviewId', 'userName', 'userImage', 'content',\n",
    "               'score', 'thumbsUpCount', 'reviewCreatedVersion', 'at',\n",
    "               'replyContent', 'repliedAt']\n",
    "    # creating or replacing an existing csv file\n",
    "    with open(filename, 'w', encoding=\"utf-8\") as csvfile:\n",
    "        # csv writer object\n",
    "        csvwriter = csv.writer(csvfile)\n",
    "        # writing the columns\n",
    "        csvwriter.writerow(columns)\n",
    "        # closing the file\n",
    "        csvfile.close()\n",
    "\n",
    "\n",
    "# this function appends reviews into the csv file\n",
    "def append_records_into_csv_file(filename, records):\n",
    "    # opening a file to append data\n",
    "    with open(filename, 'a', encoding=\"utf-8\") as csvfile:\n",
    "        # csv writer object\n",
    "        csvwriter = csv.writer(csvfile)\n",
    "        # writing new records\n",
    "        csvwriter.writerows(records)\n",
    "        # closing the file\n",
    "        csvfile.close()\n",
    "\n",
    "\n",
    "# this function convert each review dict object as a record in the csv file\n",
    "def convert_review_into_record(review):\n",
    "    # taking each key's value from review dict\n",
    "    review_id = review['reviewId']\n",
    "    user_name = review['userName']\n",
    "    user_image = review['userImage']\n",
    "    content = review['content']\n",
    "    score = review['score']\n",
    "    thumbs_up_count = review['thumbsUpCount']\n",
    "    review_created_version = review['reviewCreatedVersion']\n",
    "    at = review['at']\n",
    "    reply_content = review['replyContent']\n",
    "    replied_at = review['repliedAt']\n",
    "\n",
    "    # returning values as a list\n",
    "    return [review_id, user_name, user_image, content,\n",
    "            score, thumbs_up_count, review_created_version,\n",
    "            at, reply_content, replied_at]\n",
    "\n",
    "\n",
    "# this function converts reviews dict list into records list\n",
    "def convert_reviews_into_records(results):\n",
    "    records = []\n",
    "    for item in results:\n",
    "        records.append(convert_review_into_record(item))\n",
    "    return records\n",
    "\n",
    "# total_reviews_fetched = fetch_reviews_from_play_store(\"com.facebook.katana\", \"../Data/reviews.csv\", 40, 20)\n",
    "# print(\"Total review fetched: \" + str(total_reviews_fetched))\n",
    "\n",
    "# print(\"Fetching reviews started...\")\n",
    "# total_review_fetched = fetch_reviews_from_play_store(\n",
    "   \n",
    "# print(\"Total reviews fetched : \" + str(total_review_fetched))\n",
    "\n",
    "if __name__ == '__main__':\n",
    "    app_package_name=\"com.facebook.katana\"\n",
    "    filename=\"play_store_facebook_reviews.csv\"\n",
    "    number_of_reviews=10000\n",
    "    limit=20\n",
    "    fetch_reviews_from_play_store(app_package_name, filename, number_of_reviews, limit)"
   ]
  },
  {
   "cell_type": "code",
   "execution_count": null,
   "id": "392c1022-9c1e-4e18-9a4e-58ca9e573d1a",
   "metadata": {},
   "outputs": [],
   "source": []
  }
 ],
 "metadata": {
  "kernelspec": {
   "display_name": "Python 3",
   "language": "python",
   "name": "python3"
  },
  "language_info": {
   "codemirror_mode": {
    "name": "ipython",
    "version": 3
   },
   "file_extension": ".py",
   "mimetype": "text/x-python",
   "name": "python",
   "nbconvert_exporter": "python",
   "pygments_lexer": "ipython3",
   "version": "3.9.18"
  }
 },
 "nbformat": 4,
 "nbformat_minor": 5
}
