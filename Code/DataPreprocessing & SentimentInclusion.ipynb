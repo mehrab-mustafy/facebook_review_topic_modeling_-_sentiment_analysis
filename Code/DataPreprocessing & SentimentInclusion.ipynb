{
 "cells": [
  {
   "cell_type": "markdown",
   "id": "442d69f8",
   "metadata": {},
   "source": [
    "Playstore Dataset Preprocessing"
   ]
  },
  {
   "cell_type": "code",
   "execution_count": 2,
   "id": "e6df2cf1-e9cc-4b42-82f2-ab6f8e91e97d",
   "metadata": {},
   "outputs": [
    {
     "name": "stdout",
     "output_type": "stream",
     "text": [
      "Category\n",
      "bad        5471\n",
      "good        350\n",
      "neutral     199\n",
      "Name: count, dtype: int64\n"
     ]
    }
   ],
   "source": [
    "import pandas as pd\n",
    "df = pd.read_csv('app_store_facebook_reviews_with_sentiment_full.csv')\n",
    "value_counts_column1 = df['Category'].value_counts()\n",
    "\n",
    "# Display the result\n",
    "print(value_counts_column1)\n"
   ]
  },
  {
   "cell_type": "code",
   "execution_count": 1,
   "id": "5450c455",
   "metadata": {},
   "outputs": [
    {
     "name": "stderr",
     "output_type": "stream",
     "text": [
      "/home/mrahm/anaconda3/envs/mlproject/lib/python3.6/site-packages/tqdm/auto.py:22: TqdmWarning: IProgress not found. Please update jupyter and ipywidgets. See https://ipywidgets.readthedocs.io/en/stable/user_install.html\n",
      "  from .autonotebook import tqdm as notebook_tqdm\n",
      "Downloading: 100%|██████████| 39.0/39.0 [00:00<00:00, 274kB/s]\n",
      "Downloading: 100%|██████████| 953/953 [00:00<00:00, 8.19MB/s]\n",
      "Downloading: 100%|██████████| 851k/851k [00:00<00:00, 16.2MB/s]\n",
      "Downloading: 100%|██████████| 112/112 [00:00<00:00, 489kB/s]\n",
      "Downloading: 100%|██████████| 638M/638M [00:05<00:00, 117MB/s]  \n"
     ]
    }
   ],
   "source": [
    "import csv\n",
    "import torch\n",
    "from transformers import AutoTokenizer, AutoModelForSequenceClassification\n",
    "\n",
    "\n",
    "def classify_review(review):\n",
    "    inputs = tokenizer.encode_plus(\n",
    "        review, return_tensors=\"pt\", truncation=True, padding=True\n",
    "    )\n",
    "    outputs = model(**inputs)\n",
    "    probabilities = torch.softmax(outputs.logits, dim=1)\n",
    "    return probabilities\n",
    "\n",
    "\n",
    "# Initialize the BERT tokenizer and model\n",
    "tokenizer = AutoTokenizer.from_pretrained(\n",
    "    \"nlptown/bert-base-multilingual-uncased-sentiment\"\n",
    ")\n",
    "model = AutoModelForSequenceClassification.from_pretrained(\n",
    "    \"nlptown/bert-base-multilingual-uncased-sentiment\"\n",
    ")\n",
    "\n",
    "# Read the CSV file\n",
    "with open(\"play_store_facebook_reviews_with_sentiment_full.csv\", \"w\", newline=\"\", encoding=\"utf-8\") as result:\n",
    "    with open(\n",
    "        \"play_store_facebook_reviews.csv\", newline=\"\", encoding=\"utf-8\"\n",
    "    ) as csvfile:\n",
    "        csv_writer = csv.writer(\n",
    "            csvfile, delimiter=\",\", quotechar='\"', quoting=csv.QUOTE_MINIMAL\n",
    "        )\n",
    "        result_writer = csv.writer(\n",
    "            result, delimiter=\",\", quotechar='\"', quoting=csv.QUOTE_MINIMAL\n",
    "        )\n",
    "        # Write header row\n",
    "        result_writer.writerow([\"Review\", \"Score\", \"Category\"])\n",
    "        reader = csv.DictReader(csvfile)\n",
    "        for row in reader:\n",
    "            review = row[\"content\"]\n",
    "            score = int(row[\"score\"])\n",
    "\n",
    "            # Classify the review\n",
    "            probabilities = classify_review(review)\n",
    "            sentiment = torch.argmax(probabilities).item()\n",
    "\n",
    "            # Determine the category: 0 - bad, 1 - neutral, 2 - good\n",
    "            if sentiment <= 1:\n",
    "                sentiment = \"bad\"\n",
    "            elif sentiment == 2:\n",
    "                sentiment = \"neutral\"\n",
    "            else:\n",
    "                sentiment = \"good\"\n",
    "\n",
    "            # Write data row\n",
    "            result_writer.writerow([review, score, sentiment])"
   ]
  },
  {
   "cell_type": "code",
   "execution_count": 2,
   "id": "c5e9f4ab",
   "metadata": {},
   "outputs": [
    {
     "data": {
      "text/plain": [
       "<bound method NDFrame.head of                                                  Review  Score Category\n",
       "0     Ridiculous update -- the Back button no longer...      2      bad\n",
       "1     Since the most recent update, the backup arrow...      3      bad\n",
       "2     This app is so unreliable. This has happened w...      1      bad\n",
       "3     Edit: Cool, so instead of fixing the existing ...      1      bad\n",
       "4     Y'all took away my ability to use my phone's b...      1      bad\n",
       "...                                                 ...    ...      ...\n",
       "9995      Bring back landscape view for live streaming.      1     good\n",
       "9996  Not satisfied with the way of marketing adds t...      1      bad\n",
       "9997  Great apps! You love to use it! Thanks Faceboo...      5     good\n",
       "9998  Why my notification cant view? I hope you fix ...      1     good\n",
       "9999  Facebook's policy is unjust. You talk about fr...      1      bad\n",
       "\n",
       "[10000 rows x 3 columns]>"
      ]
     },
     "execution_count": 2,
     "metadata": {},
     "output_type": "execute_result"
    }
   ],
   "source": [
    "import pandas as pd\n",
    "mydf = pd.read_csv('play_store_facebook_reviews_with_sentiment_full.csv')\n",
    "mydf.head"
   ]
  },
  {
   "cell_type": "code",
   "execution_count": null,
   "id": "a735d13b",
   "metadata": {},
   "outputs": [],
   "source": []
  },
  {
   "cell_type": "code",
   "execution_count": 5,
   "id": "6c8b3a3d",
   "metadata": {},
   "outputs": [],
   "source": [
    "import csv\n",
    "import torch\n",
    "from transformers import AutoTokenizer, AutoModelForSequenceClassification\n",
    "\n",
    "\n",
    "def classify_review(review):\n",
    "    inputs = tokenizer.encode_plus(\n",
    "        review, return_tensors=\"pt\", truncation=True, padding=True\n",
    "    )\n",
    "    outputs = model(**inputs)\n",
    "    probabilities = torch.softmax(outputs.logits, dim=1)\n",
    "    return probabilities\n",
    "\n",
    "\n",
    "# Initialize the BERT tokenizer and model\n",
    "tokenizer = AutoTokenizer.from_pretrained(\n",
    "    \"nlptown/bert-base-multilingual-uncased-sentiment\"\n",
    ")\n",
    "model = AutoModelForSequenceClassification.from_pretrained(\n",
    "    \"nlptown/bert-base-multilingual-uncased-sentiment\"\n",
    ")\n",
    "\n",
    "# Read the CSV file\n",
    "with open(\"app_store_facebook_reviews_with_sentiment_full.csv\", \"w\", newline=\"\", encoding=\"utf-8\") as result:\n",
    "    with open(\n",
    "        \"app_store_facebook_reviews.csv\", newline=\"\", encoding=\"utf-8\"\n",
    "    ) as csvfile:\n",
    "        csv_writer = csv.writer(\n",
    "            csvfile, delimiter=\",\", quotechar='\"', quoting=csv.QUOTE_MINIMAL\n",
    "        )\n",
    "        result_writer = csv.writer(\n",
    "            result, delimiter=\",\", quotechar='\"', quoting=csv.QUOTE_MINIMAL\n",
    "        )\n",
    "        # Write header row\n",
    "        result_writer.writerow([\"Review\", \"Score\", \"Category\"])\n",
    "        reader = csv.DictReader(csvfile)\n",
    "        for row in reader:\n",
    "            review = row[\"review\"]\n",
    "            score = int(row[\"rating\"])\n",
    "\n",
    "            # Classify the review\n",
    "            probabilities = classify_review(review)\n",
    "            sentiment = torch.argmax(probabilities).item()\n",
    "\n",
    "            # Determine the category: 0 - bad, 1 - neutral, 2 - good\n",
    "            if sentiment <= 1:\n",
    "                sentiment = \"bad\"\n",
    "            elif sentiment == 2:\n",
    "                sentiment = \"neutral\"\n",
    "            else:\n",
    "                sentiment = \"good\"\n",
    "\n",
    "            # Write data row\n",
    "            result_writer.writerow([review, score, sentiment])"
   ]
  },
  {
   "cell_type": "code",
   "execution_count": 6,
   "id": "cfb4ac1b",
   "metadata": {},
   "outputs": [
    {
     "data": {
      "text/plain": [
       "<bound method NDFrame.head of                                                  Review  Score Category\n",
       "0     I have updated to the latest iPhone software, ...      2      bad\n",
       "1     I can't believe you guys, it's annoying to not...      1      bad\n",
       "2     Firstly, to get the big one out of the way. Se...      1      bad\n",
       "3     Absolute garbage. I never used social media be...      1      bad\n",
       "4     this app supposed to be a \"Open opinion space ...      1      bad\n",
       "...                                                 ...    ...      ...\n",
       "6015  Just last week I could edit my post on my phon...      3      bad\n",
       "6016  My mom passed in May and I submitted 2 request...      1      bad\n",
       "6017  This app is trashiest. Facebook has no rules t...      1      bad\n",
       "6018  This app is trash!! Y’all are so sensitive 🤬 I...      1      bad\n",
       "6019  Literally no excuses. This is a gigantic compa...      1      bad\n",
       "\n",
       "[6020 rows x 3 columns]>"
      ]
     },
     "execution_count": 6,
     "metadata": {},
     "output_type": "execute_result"
    }
   ],
   "source": [
    "mydf2 = pd.read_csv('app_store_facebook_reviews_with_sentiment_full.csv')\n",
    "mydf2.head"
   ]
  },
  {
   "cell_type": "code",
   "execution_count": null,
   "id": "7175d4b2",
   "metadata": {},
   "outputs": [],
   "source": []
  }
 ],
 "metadata": {
  "kernelspec": {
   "display_name": "Python 3",
   "language": "python",
   "name": "python3"
  },
  "language_info": {
   "codemirror_mode": {
    "name": "ipython",
    "version": 3
   },
   "file_extension": ".py",
   "mimetype": "text/x-python",
   "name": "python",
   "nbconvert_exporter": "python",
   "pygments_lexer": "ipython3",
   "version": "3.9.18"
  }
 },
 "nbformat": 4,
 "nbformat_minor": 5
}
